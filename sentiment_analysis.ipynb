{
  "cells": [
    {
      "cell_type": "code",
      "execution_count": 5,
      "metadata": {
        "id": "aOKLOaKNDeot"
      },
      "outputs": [],
      "source": [
        "import numpy as np \n",
        "import pandas as pd \n",
        "import re    #Regular Expressions ( re ) module in Python\n",
        "from keras.preprocessing.text import Tokenizer\n",
        "from keras.utils import pad_sequences\n",
        "from keras.models import Sequential\n",
        "from keras.layers import Dense, Embedding, LSTM\n",
        "from sklearn.model_selection import train_test_split\n",
        "from tensorflow.keras.preprocessing import sequence\n",
        "from keras.callbacks import EarlyStopping"
      ]
    },
    {
      "cell_type": "code",
      "execution_count": 6,
      "metadata": {
        "id": "WAyVuze9DsTb"
      },
      "outputs": [],
      "source": [
        "data = pd.read_csv('/content/Sentiment.csv')"
      ]
    },
    {
      "cell_type": "code",
      "execution_count": 7,
      "metadata": {
        "id": "DilqDereCO_m"
      },
      "outputs": [],
      "source": [
        "data=data[['text','sentiment']]"
      ]
    },
    {
      "cell_type": "code",
      "execution_count": 8,
      "metadata": {
        "colab": {
          "base_uri": "https://localhost:8080/",
          "height": 423
        },
        "id": "4ctNWr2LQn00",
        "outputId": "24473d8e-c82f-4f28-8798-7beed93f3170"
      },
      "outputs": [
        {
          "data": {
            "text/html": [
              "\n",
              "  <div id=\"df-c8c33171-5142-455e-a8b1-7e60e14fbc87\">\n",
              "    <div class=\"colab-df-container\">\n",
              "      <div>\n",
              "<style scoped>\n",
              "    .dataframe tbody tr th:only-of-type {\n",
              "        vertical-align: middle;\n",
              "    }\n",
              "\n",
              "    .dataframe tbody tr th {\n",
              "        vertical-align: top;\n",
              "    }\n",
              "\n",
              "    .dataframe thead th {\n",
              "        text-align: right;\n",
              "    }\n",
              "</style>\n",
              "<table border=\"1\" class=\"dataframe\">\n",
              "  <thead>\n",
              "    <tr style=\"text-align: right;\">\n",
              "      <th></th>\n",
              "      <th>text</th>\n",
              "      <th>sentiment</th>\n",
              "    </tr>\n",
              "  </thead>\n",
              "  <tbody>\n",
              "    <tr>\n",
              "      <th>0</th>\n",
              "      <td>RT @NancyLeeGrahn: How did everyone feel about...</td>\n",
              "      <td>Neutral</td>\n",
              "    </tr>\n",
              "    <tr>\n",
              "      <th>1</th>\n",
              "      <td>RT @ScottWalker: Didn't catch the full #GOPdeb...</td>\n",
              "      <td>Positive</td>\n",
              "    </tr>\n",
              "    <tr>\n",
              "      <th>2</th>\n",
              "      <td>RT @TJMShow: No mention of Tamir Rice and the ...</td>\n",
              "      <td>Neutral</td>\n",
              "    </tr>\n",
              "    <tr>\n",
              "      <th>3</th>\n",
              "      <td>RT @RobGeorge: That Carly Fiorina is trending ...</td>\n",
              "      <td>Positive</td>\n",
              "    </tr>\n",
              "    <tr>\n",
              "      <th>4</th>\n",
              "      <td>RT @DanScavino: #GOPDebate w/ @realDonaldTrump...</td>\n",
              "      <td>Positive</td>\n",
              "    </tr>\n",
              "    <tr>\n",
              "      <th>...</th>\n",
              "      <td>...</td>\n",
              "      <td>...</td>\n",
              "    </tr>\n",
              "    <tr>\n",
              "      <th>13866</th>\n",
              "      <td>RT @cappy_yarbrough: Love to see men who will ...</td>\n",
              "      <td>Negative</td>\n",
              "    </tr>\n",
              "    <tr>\n",
              "      <th>13867</th>\n",
              "      <td>RT @georgehenryw: Who thought Huckabee exceede...</td>\n",
              "      <td>Positive</td>\n",
              "    </tr>\n",
              "    <tr>\n",
              "      <th>13868</th>\n",
              "      <td>RT @Lrihendry: #TedCruz As President, I will a...</td>\n",
              "      <td>Positive</td>\n",
              "    </tr>\n",
              "    <tr>\n",
              "      <th>13869</th>\n",
              "      <td>RT @JRehling: #GOPDebate Donald Trump says tha...</td>\n",
              "      <td>Negative</td>\n",
              "    </tr>\n",
              "    <tr>\n",
              "      <th>13870</th>\n",
              "      <td>RT @Lrihendry: #TedCruz headed into the Presid...</td>\n",
              "      <td>Positive</td>\n",
              "    </tr>\n",
              "  </tbody>\n",
              "</table>\n",
              "<p>13871 rows × 2 columns</p>\n",
              "</div>\n",
              "      <button class=\"colab-df-convert\" onclick=\"convertToInteractive('df-c8c33171-5142-455e-a8b1-7e60e14fbc87')\"\n",
              "              title=\"Convert this dataframe to an interactive table.\"\n",
              "              style=\"display:none;\">\n",
              "        \n",
              "  <svg xmlns=\"http://www.w3.org/2000/svg\" height=\"24px\"viewBox=\"0 0 24 24\"\n",
              "       width=\"24px\">\n",
              "    <path d=\"M0 0h24v24H0V0z\" fill=\"none\"/>\n",
              "    <path d=\"M18.56 5.44l.94 2.06.94-2.06 2.06-.94-2.06-.94-.94-2.06-.94 2.06-2.06.94zm-11 1L8.5 8.5l.94-2.06 2.06-.94-2.06-.94L8.5 2.5l-.94 2.06-2.06.94zm10 10l.94 2.06.94-2.06 2.06-.94-2.06-.94-.94-2.06-.94 2.06-2.06.94z\"/><path d=\"M17.41 7.96l-1.37-1.37c-.4-.4-.92-.59-1.43-.59-.52 0-1.04.2-1.43.59L10.3 9.45l-7.72 7.72c-.78.78-.78 2.05 0 2.83L4 21.41c.39.39.9.59 1.41.59.51 0 1.02-.2 1.41-.59l7.78-7.78 2.81-2.81c.8-.78.8-2.07 0-2.86zM5.41 20L4 18.59l7.72-7.72 1.47 1.35L5.41 20z\"/>\n",
              "  </svg>\n",
              "      </button>\n",
              "      \n",
              "  <style>\n",
              "    .colab-df-container {\n",
              "      display:flex;\n",
              "      flex-wrap:wrap;\n",
              "      gap: 12px;\n",
              "    }\n",
              "\n",
              "    .colab-df-convert {\n",
              "      background-color: #E8F0FE;\n",
              "      border: none;\n",
              "      border-radius: 50%;\n",
              "      cursor: pointer;\n",
              "      display: none;\n",
              "      fill: #1967D2;\n",
              "      height: 32px;\n",
              "      padding: 0 0 0 0;\n",
              "      width: 32px;\n",
              "    }\n",
              "\n",
              "    .colab-df-convert:hover {\n",
              "      background-color: #E2EBFA;\n",
              "      box-shadow: 0px 1px 2px rgba(60, 64, 67, 0.3), 0px 1px 3px 1px rgba(60, 64, 67, 0.15);\n",
              "      fill: #174EA6;\n",
              "    }\n",
              "\n",
              "    [theme=dark] .colab-df-convert {\n",
              "      background-color: #3B4455;\n",
              "      fill: #D2E3FC;\n",
              "    }\n",
              "\n",
              "    [theme=dark] .colab-df-convert:hover {\n",
              "      background-color: #434B5C;\n",
              "      box-shadow: 0px 1px 3px 1px rgba(0, 0, 0, 0.15);\n",
              "      filter: drop-shadow(0px 1px 2px rgba(0, 0, 0, 0.3));\n",
              "      fill: #FFFFFF;\n",
              "    }\n",
              "  </style>\n",
              "\n",
              "      <script>\n",
              "        const buttonEl =\n",
              "          document.querySelector('#df-c8c33171-5142-455e-a8b1-7e60e14fbc87 button.colab-df-convert');\n",
              "        buttonEl.style.display =\n",
              "          google.colab.kernel.accessAllowed ? 'block' : 'none';\n",
              "\n",
              "        async function convertToInteractive(key) {\n",
              "          const element = document.querySelector('#df-c8c33171-5142-455e-a8b1-7e60e14fbc87');\n",
              "          const dataTable =\n",
              "            await google.colab.kernel.invokeFunction('convertToInteractive',\n",
              "                                                     [key], {});\n",
              "          if (!dataTable) return;\n",
              "\n",
              "          const docLinkHtml = 'Like what you see? Visit the ' +\n",
              "            '<a target=\"_blank\" href=https://colab.research.google.com/notebooks/data_table.ipynb>data table notebook</a>'\n",
              "            + ' to learn more about interactive tables.';\n",
              "          element.innerHTML = '';\n",
              "          dataTable['output_type'] = 'display_data';\n",
              "          await google.colab.output.renderOutput(dataTable, element);\n",
              "          const docLink = document.createElement('div');\n",
              "          docLink.innerHTML = docLinkHtml;\n",
              "          element.appendChild(docLink);\n",
              "        }\n",
              "      </script>\n",
              "    </div>\n",
              "  </div>\n",
              "  "
            ],
            "text/plain": [
              "                                                    text sentiment\n",
              "0      RT @NancyLeeGrahn: How did everyone feel about...   Neutral\n",
              "1      RT @ScottWalker: Didn't catch the full #GOPdeb...  Positive\n",
              "2      RT @TJMShow: No mention of Tamir Rice and the ...   Neutral\n",
              "3      RT @RobGeorge: That Carly Fiorina is trending ...  Positive\n",
              "4      RT @DanScavino: #GOPDebate w/ @realDonaldTrump...  Positive\n",
              "...                                                  ...       ...\n",
              "13866  RT @cappy_yarbrough: Love to see men who will ...  Negative\n",
              "13867  RT @georgehenryw: Who thought Huckabee exceede...  Positive\n",
              "13868  RT @Lrihendry: #TedCruz As President, I will a...  Positive\n",
              "13869  RT @JRehling: #GOPDebate Donald Trump says tha...  Negative\n",
              "13870  RT @Lrihendry: #TedCruz headed into the Presid...  Positive\n",
              "\n",
              "[13871 rows x 2 columns]"
            ]
          },
          "execution_count": 8,
          "metadata": {},
          "output_type": "execute_result"
        }
      ],
      "source": [
        "data"
      ]
    },
    {
      "cell_type": "code",
      "execution_count": 9,
      "metadata": {
        "colab": {
          "base_uri": "https://localhost:8080/",
          "height": 423
        },
        "id": "u62PiP34KAoF",
        "outputId": "61e575b1-f9d5-45ef-eb55-6f64a02d48c6"
      },
      "outputs": [
        {
          "data": {
            "text/html": [
              "\n",
              "  <div id=\"df-fb135e78-8c48-411c-97cb-82d5ab70d637\">\n",
              "    <div class=\"colab-df-container\">\n",
              "      <div>\n",
              "<style scoped>\n",
              "    .dataframe tbody tr th:only-of-type {\n",
              "        vertical-align: middle;\n",
              "    }\n",
              "\n",
              "    .dataframe tbody tr th {\n",
              "        vertical-align: top;\n",
              "    }\n",
              "\n",
              "    .dataframe thead th {\n",
              "        text-align: right;\n",
              "    }\n",
              "</style>\n",
              "<table border=\"1\" class=\"dataframe\">\n",
              "  <thead>\n",
              "    <tr style=\"text-align: right;\">\n",
              "      <th></th>\n",
              "      <th>text</th>\n",
              "      <th>sentiment</th>\n",
              "    </tr>\n",
              "  </thead>\n",
              "  <tbody>\n",
              "    <tr>\n",
              "      <th>1</th>\n",
              "      <td>RT @ScottWalker: Didn't catch the full #GOPdeb...</td>\n",
              "      <td>Positive</td>\n",
              "    </tr>\n",
              "    <tr>\n",
              "      <th>3</th>\n",
              "      <td>RT @RobGeorge: That Carly Fiorina is trending ...</td>\n",
              "      <td>Positive</td>\n",
              "    </tr>\n",
              "    <tr>\n",
              "      <th>4</th>\n",
              "      <td>RT @DanScavino: #GOPDebate w/ @realDonaldTrump...</td>\n",
              "      <td>Positive</td>\n",
              "    </tr>\n",
              "    <tr>\n",
              "      <th>5</th>\n",
              "      <td>RT @GregAbbott_TX: @TedCruz: \"On my first day ...</td>\n",
              "      <td>Positive</td>\n",
              "    </tr>\n",
              "    <tr>\n",
              "      <th>6</th>\n",
              "      <td>RT @warriorwoman91: I liked her and was happy ...</td>\n",
              "      <td>Negative</td>\n",
              "    </tr>\n",
              "    <tr>\n",
              "      <th>...</th>\n",
              "      <td>...</td>\n",
              "      <td>...</td>\n",
              "    </tr>\n",
              "    <tr>\n",
              "      <th>13866</th>\n",
              "      <td>RT @cappy_yarbrough: Love to see men who will ...</td>\n",
              "      <td>Negative</td>\n",
              "    </tr>\n",
              "    <tr>\n",
              "      <th>13867</th>\n",
              "      <td>RT @georgehenryw: Who thought Huckabee exceede...</td>\n",
              "      <td>Positive</td>\n",
              "    </tr>\n",
              "    <tr>\n",
              "      <th>13868</th>\n",
              "      <td>RT @Lrihendry: #TedCruz As President, I will a...</td>\n",
              "      <td>Positive</td>\n",
              "    </tr>\n",
              "    <tr>\n",
              "      <th>13869</th>\n",
              "      <td>RT @JRehling: #GOPDebate Donald Trump says tha...</td>\n",
              "      <td>Negative</td>\n",
              "    </tr>\n",
              "    <tr>\n",
              "      <th>13870</th>\n",
              "      <td>RT @Lrihendry: #TedCruz headed into the Presid...</td>\n",
              "      <td>Positive</td>\n",
              "    </tr>\n",
              "  </tbody>\n",
              "</table>\n",
              "<p>10729 rows × 2 columns</p>\n",
              "</div>\n",
              "      <button class=\"colab-df-convert\" onclick=\"convertToInteractive('df-fb135e78-8c48-411c-97cb-82d5ab70d637')\"\n",
              "              title=\"Convert this dataframe to an interactive table.\"\n",
              "              style=\"display:none;\">\n",
              "        \n",
              "  <svg xmlns=\"http://www.w3.org/2000/svg\" height=\"24px\"viewBox=\"0 0 24 24\"\n",
              "       width=\"24px\">\n",
              "    <path d=\"M0 0h24v24H0V0z\" fill=\"none\"/>\n",
              "    <path d=\"M18.56 5.44l.94 2.06.94-2.06 2.06-.94-2.06-.94-.94-2.06-.94 2.06-2.06.94zm-11 1L8.5 8.5l.94-2.06 2.06-.94-2.06-.94L8.5 2.5l-.94 2.06-2.06.94zm10 10l.94 2.06.94-2.06 2.06-.94-2.06-.94-.94-2.06-.94 2.06-2.06.94z\"/><path d=\"M17.41 7.96l-1.37-1.37c-.4-.4-.92-.59-1.43-.59-.52 0-1.04.2-1.43.59L10.3 9.45l-7.72 7.72c-.78.78-.78 2.05 0 2.83L4 21.41c.39.39.9.59 1.41.59.51 0 1.02-.2 1.41-.59l7.78-7.78 2.81-2.81c.8-.78.8-2.07 0-2.86zM5.41 20L4 18.59l7.72-7.72 1.47 1.35L5.41 20z\"/>\n",
              "  </svg>\n",
              "      </button>\n",
              "      \n",
              "  <style>\n",
              "    .colab-df-container {\n",
              "      display:flex;\n",
              "      flex-wrap:wrap;\n",
              "      gap: 12px;\n",
              "    }\n",
              "\n",
              "    .colab-df-convert {\n",
              "      background-color: #E8F0FE;\n",
              "      border: none;\n",
              "      border-radius: 50%;\n",
              "      cursor: pointer;\n",
              "      display: none;\n",
              "      fill: #1967D2;\n",
              "      height: 32px;\n",
              "      padding: 0 0 0 0;\n",
              "      width: 32px;\n",
              "    }\n",
              "\n",
              "    .colab-df-convert:hover {\n",
              "      background-color: #E2EBFA;\n",
              "      box-shadow: 0px 1px 2px rgba(60, 64, 67, 0.3), 0px 1px 3px 1px rgba(60, 64, 67, 0.15);\n",
              "      fill: #174EA6;\n",
              "    }\n",
              "\n",
              "    [theme=dark] .colab-df-convert {\n",
              "      background-color: #3B4455;\n",
              "      fill: #D2E3FC;\n",
              "    }\n",
              "\n",
              "    [theme=dark] .colab-df-convert:hover {\n",
              "      background-color: #434B5C;\n",
              "      box-shadow: 0px 1px 3px 1px rgba(0, 0, 0, 0.15);\n",
              "      filter: drop-shadow(0px 1px 2px rgba(0, 0, 0, 0.3));\n",
              "      fill: #FFFFFF;\n",
              "    }\n",
              "  </style>\n",
              "\n",
              "      <script>\n",
              "        const buttonEl =\n",
              "          document.querySelector('#df-fb135e78-8c48-411c-97cb-82d5ab70d637 button.colab-df-convert');\n",
              "        buttonEl.style.display =\n",
              "          google.colab.kernel.accessAllowed ? 'block' : 'none';\n",
              "\n",
              "        async function convertToInteractive(key) {\n",
              "          const element = document.querySelector('#df-fb135e78-8c48-411c-97cb-82d5ab70d637');\n",
              "          const dataTable =\n",
              "            await google.colab.kernel.invokeFunction('convertToInteractive',\n",
              "                                                     [key], {});\n",
              "          if (!dataTable) return;\n",
              "\n",
              "          const docLinkHtml = 'Like what you see? Visit the ' +\n",
              "            '<a target=\"_blank\" href=https://colab.research.google.com/notebooks/data_table.ipynb>data table notebook</a>'\n",
              "            + ' to learn more about interactive tables.';\n",
              "          element.innerHTML = '';\n",
              "          dataTable['output_type'] = 'display_data';\n",
              "          await google.colab.output.renderOutput(dataTable, element);\n",
              "          const docLink = document.createElement('div');\n",
              "          docLink.innerHTML = docLinkHtml;\n",
              "          element.appendChild(docLink);\n",
              "        }\n",
              "      </script>\n",
              "    </div>\n",
              "  </div>\n",
              "  "
            ],
            "text/plain": [
              "                                                    text sentiment\n",
              "1      RT @ScottWalker: Didn't catch the full #GOPdeb...  Positive\n",
              "3      RT @RobGeorge: That Carly Fiorina is trending ...  Positive\n",
              "4      RT @DanScavino: #GOPDebate w/ @realDonaldTrump...  Positive\n",
              "5      RT @GregAbbott_TX: @TedCruz: \"On my first day ...  Positive\n",
              "6      RT @warriorwoman91: I liked her and was happy ...  Negative\n",
              "...                                                  ...       ...\n",
              "13866  RT @cappy_yarbrough: Love to see men who will ...  Negative\n",
              "13867  RT @georgehenryw: Who thought Huckabee exceede...  Positive\n",
              "13868  RT @Lrihendry: #TedCruz As President, I will a...  Positive\n",
              "13869  RT @JRehling: #GOPDebate Donald Trump says tha...  Negative\n",
              "13870  RT @Lrihendry: #TedCruz headed into the Presid...  Positive\n",
              "\n",
              "[10729 rows x 2 columns]"
            ]
          },
          "execution_count": 9,
          "metadata": {},
          "output_type": "execute_result"
        }
      ],
      "source": [
        "data = data[data.sentiment != \"Neutral\"]\n",
        "data"
      ]
    },
    {
      "cell_type": "code",
      "execution_count": 10,
      "metadata": {
        "colab": {
          "base_uri": "https://localhost:8080/",
          "height": 547
        },
        "id": "_49akFM6RYN2",
        "outputId": "8c27f3de-2340-4101-c52d-eb9e7262a044"
      },
      "outputs": [
        {
          "name": "stderr",
          "output_type": "stream",
          "text": [
            "<ipython-input-10-165dfba0cd9a>:1: SettingWithCopyWarning: \n",
            "A value is trying to be set on a copy of a slice from a DataFrame.\n",
            "Try using .loc[row_indexer,col_indexer] = value instead\n",
            "\n",
            "See the caveats in the documentation: https://pandas.pydata.org/pandas-docs/stable/user_guide/indexing.html#returning-a-view-versus-a-copy\n",
            "  data['text'] = data['text'].apply(lambda x: x.lower())\n"
          ]
        },
        {
          "data": {
            "text/html": [
              "\n",
              "  <div id=\"df-4e545d7e-e0c5-4934-a61b-82158527d973\">\n",
              "    <div class=\"colab-df-container\">\n",
              "      <div>\n",
              "<style scoped>\n",
              "    .dataframe tbody tr th:only-of-type {\n",
              "        vertical-align: middle;\n",
              "    }\n",
              "\n",
              "    .dataframe tbody tr th {\n",
              "        vertical-align: top;\n",
              "    }\n",
              "\n",
              "    .dataframe thead th {\n",
              "        text-align: right;\n",
              "    }\n",
              "</style>\n",
              "<table border=\"1\" class=\"dataframe\">\n",
              "  <thead>\n",
              "    <tr style=\"text-align: right;\">\n",
              "      <th></th>\n",
              "      <th>text</th>\n",
              "      <th>sentiment</th>\n",
              "    </tr>\n",
              "  </thead>\n",
              "  <tbody>\n",
              "    <tr>\n",
              "      <th>1</th>\n",
              "      <td>rt @scottwalker: didn't catch the full #gopdeb...</td>\n",
              "      <td>Positive</td>\n",
              "    </tr>\n",
              "    <tr>\n",
              "      <th>3</th>\n",
              "      <td>rt @robgeorge: that carly fiorina is trending ...</td>\n",
              "      <td>Positive</td>\n",
              "    </tr>\n",
              "    <tr>\n",
              "      <th>4</th>\n",
              "      <td>rt @danscavino: #gopdebate w/ @realdonaldtrump...</td>\n",
              "      <td>Positive</td>\n",
              "    </tr>\n",
              "    <tr>\n",
              "      <th>5</th>\n",
              "      <td>rt @gregabbott_tx: @tedcruz: \"on my first day ...</td>\n",
              "      <td>Positive</td>\n",
              "    </tr>\n",
              "    <tr>\n",
              "      <th>6</th>\n",
              "      <td>rt @warriorwoman91: i liked her and was happy ...</td>\n",
              "      <td>Negative</td>\n",
              "    </tr>\n",
              "    <tr>\n",
              "      <th>...</th>\n",
              "      <td>...</td>\n",
              "      <td>...</td>\n",
              "    </tr>\n",
              "    <tr>\n",
              "      <th>13866</th>\n",
              "      <td>rt @cappy_yarbrough: love to see men who will ...</td>\n",
              "      <td>Negative</td>\n",
              "    </tr>\n",
              "    <tr>\n",
              "      <th>13867</th>\n",
              "      <td>rt @georgehenryw: who thought huckabee exceede...</td>\n",
              "      <td>Positive</td>\n",
              "    </tr>\n",
              "    <tr>\n",
              "      <th>13868</th>\n",
              "      <td>rt @lrihendry: #tedcruz as president, i will a...</td>\n",
              "      <td>Positive</td>\n",
              "    </tr>\n",
              "    <tr>\n",
              "      <th>13869</th>\n",
              "      <td>rt @jrehling: #gopdebate donald trump says tha...</td>\n",
              "      <td>Negative</td>\n",
              "    </tr>\n",
              "    <tr>\n",
              "      <th>13870</th>\n",
              "      <td>rt @lrihendry: #tedcruz headed into the presid...</td>\n",
              "      <td>Positive</td>\n",
              "    </tr>\n",
              "  </tbody>\n",
              "</table>\n",
              "<p>10729 rows × 2 columns</p>\n",
              "</div>\n",
              "      <button class=\"colab-df-convert\" onclick=\"convertToInteractive('df-4e545d7e-e0c5-4934-a61b-82158527d973')\"\n",
              "              title=\"Convert this dataframe to an interactive table.\"\n",
              "              style=\"display:none;\">\n",
              "        \n",
              "  <svg xmlns=\"http://www.w3.org/2000/svg\" height=\"24px\"viewBox=\"0 0 24 24\"\n",
              "       width=\"24px\">\n",
              "    <path d=\"M0 0h24v24H0V0z\" fill=\"none\"/>\n",
              "    <path d=\"M18.56 5.44l.94 2.06.94-2.06 2.06-.94-2.06-.94-.94-2.06-.94 2.06-2.06.94zm-11 1L8.5 8.5l.94-2.06 2.06-.94-2.06-.94L8.5 2.5l-.94 2.06-2.06.94zm10 10l.94 2.06.94-2.06 2.06-.94-2.06-.94-.94-2.06-.94 2.06-2.06.94z\"/><path d=\"M17.41 7.96l-1.37-1.37c-.4-.4-.92-.59-1.43-.59-.52 0-1.04.2-1.43.59L10.3 9.45l-7.72 7.72c-.78.78-.78 2.05 0 2.83L4 21.41c.39.39.9.59 1.41.59.51 0 1.02-.2 1.41-.59l7.78-7.78 2.81-2.81c.8-.78.8-2.07 0-2.86zM5.41 20L4 18.59l7.72-7.72 1.47 1.35L5.41 20z\"/>\n",
              "  </svg>\n",
              "      </button>\n",
              "      \n",
              "  <style>\n",
              "    .colab-df-container {\n",
              "      display:flex;\n",
              "      flex-wrap:wrap;\n",
              "      gap: 12px;\n",
              "    }\n",
              "\n",
              "    .colab-df-convert {\n",
              "      background-color: #E8F0FE;\n",
              "      border: none;\n",
              "      border-radius: 50%;\n",
              "      cursor: pointer;\n",
              "      display: none;\n",
              "      fill: #1967D2;\n",
              "      height: 32px;\n",
              "      padding: 0 0 0 0;\n",
              "      width: 32px;\n",
              "    }\n",
              "\n",
              "    .colab-df-convert:hover {\n",
              "      background-color: #E2EBFA;\n",
              "      box-shadow: 0px 1px 2px rgba(60, 64, 67, 0.3), 0px 1px 3px 1px rgba(60, 64, 67, 0.15);\n",
              "      fill: #174EA6;\n",
              "    }\n",
              "\n",
              "    [theme=dark] .colab-df-convert {\n",
              "      background-color: #3B4455;\n",
              "      fill: #D2E3FC;\n",
              "    }\n",
              "\n",
              "    [theme=dark] .colab-df-convert:hover {\n",
              "      background-color: #434B5C;\n",
              "      box-shadow: 0px 1px 3px 1px rgba(0, 0, 0, 0.15);\n",
              "      filter: drop-shadow(0px 1px 2px rgba(0, 0, 0, 0.3));\n",
              "      fill: #FFFFFF;\n",
              "    }\n",
              "  </style>\n",
              "\n",
              "      <script>\n",
              "        const buttonEl =\n",
              "          document.querySelector('#df-4e545d7e-e0c5-4934-a61b-82158527d973 button.colab-df-convert');\n",
              "        buttonEl.style.display =\n",
              "          google.colab.kernel.accessAllowed ? 'block' : 'none';\n",
              "\n",
              "        async function convertToInteractive(key) {\n",
              "          const element = document.querySelector('#df-4e545d7e-e0c5-4934-a61b-82158527d973');\n",
              "          const dataTable =\n",
              "            await google.colab.kernel.invokeFunction('convertToInteractive',\n",
              "                                                     [key], {});\n",
              "          if (!dataTable) return;\n",
              "\n",
              "          const docLinkHtml = 'Like what you see? Visit the ' +\n",
              "            '<a target=\"_blank\" href=https://colab.research.google.com/notebooks/data_table.ipynb>data table notebook</a>'\n",
              "            + ' to learn more about interactive tables.';\n",
              "          element.innerHTML = '';\n",
              "          dataTable['output_type'] = 'display_data';\n",
              "          await google.colab.output.renderOutput(dataTable, element);\n",
              "          const docLink = document.createElement('div');\n",
              "          docLink.innerHTML = docLinkHtml;\n",
              "          element.appendChild(docLink);\n",
              "        }\n",
              "      </script>\n",
              "    </div>\n",
              "  </div>\n",
              "  "
            ],
            "text/plain": [
              "                                                    text sentiment\n",
              "1      rt @scottwalker: didn't catch the full #gopdeb...  Positive\n",
              "3      rt @robgeorge: that carly fiorina is trending ...  Positive\n",
              "4      rt @danscavino: #gopdebate w/ @realdonaldtrump...  Positive\n",
              "5      rt @gregabbott_tx: @tedcruz: \"on my first day ...  Positive\n",
              "6      rt @warriorwoman91: i liked her and was happy ...  Negative\n",
              "...                                                  ...       ...\n",
              "13866  rt @cappy_yarbrough: love to see men who will ...  Negative\n",
              "13867  rt @georgehenryw: who thought huckabee exceede...  Positive\n",
              "13868  rt @lrihendry: #tedcruz as president, i will a...  Positive\n",
              "13869  rt @jrehling: #gopdebate donald trump says tha...  Negative\n",
              "13870  rt @lrihendry: #tedcruz headed into the presid...  Positive\n",
              "\n",
              "[10729 rows x 2 columns]"
            ]
          },
          "execution_count": 10,
          "metadata": {},
          "output_type": "execute_result"
        }
      ],
      "source": [
        "data['text'] = data['text'].apply(lambda x: x.lower())\n",
        "data\n"
      ]
    },
    {
      "cell_type": "code",
      "execution_count": 11,
      "metadata": {
        "colab": {
          "base_uri": "https://localhost:8080/",
          "height": 547
        },
        "id": "kA0hPxU_RzS2",
        "outputId": "9d409c26-8fce-4a7e-b3f5-d2145b9c055d"
      },
      "outputs": [
        {
          "name": "stderr",
          "output_type": "stream",
          "text": [
            "<ipython-input-11-107da71e7f58>:1: SettingWithCopyWarning: \n",
            "A value is trying to be set on a copy of a slice from a DataFrame.\n",
            "Try using .loc[row_indexer,col_indexer] = value instead\n",
            "\n",
            "See the caveats in the documentation: https://pandas.pydata.org/pandas-docs/stable/user_guide/indexing.html#returning-a-view-versus-a-copy\n",
            "  data['text'] = data['text'].apply((lambda x: re.sub('[^a-z0-9\\s]','',x))) #The syntax for re. sub() is re. sub(pattern,repl,string).\n"
          ]
        },
        {
          "data": {
            "text/html": [
              "\n",
              "  <div id=\"df-8e6a0728-bf1c-4dfc-acf4-b37f78156ab6\">\n",
              "    <div class=\"colab-df-container\">\n",
              "      <div>\n",
              "<style scoped>\n",
              "    .dataframe tbody tr th:only-of-type {\n",
              "        vertical-align: middle;\n",
              "    }\n",
              "\n",
              "    .dataframe tbody tr th {\n",
              "        vertical-align: top;\n",
              "    }\n",
              "\n",
              "    .dataframe thead th {\n",
              "        text-align: right;\n",
              "    }\n",
              "</style>\n",
              "<table border=\"1\" class=\"dataframe\">\n",
              "  <thead>\n",
              "    <tr style=\"text-align: right;\">\n",
              "      <th></th>\n",
              "      <th>text</th>\n",
              "      <th>sentiment</th>\n",
              "    </tr>\n",
              "  </thead>\n",
              "  <tbody>\n",
              "    <tr>\n",
              "      <th>1</th>\n",
              "      <td>rt scottwalker didnt catch the full gopdebate ...</td>\n",
              "      <td>Positive</td>\n",
              "    </tr>\n",
              "    <tr>\n",
              "      <th>3</th>\n",
              "      <td>rt robgeorge that carly fiorina is trending  h...</td>\n",
              "      <td>Positive</td>\n",
              "    </tr>\n",
              "    <tr>\n",
              "      <th>4</th>\n",
              "      <td>rt danscavino gopdebate w realdonaldtrump deli...</td>\n",
              "      <td>Positive</td>\n",
              "    </tr>\n",
              "    <tr>\n",
              "      <th>5</th>\n",
              "      <td>rt gregabbotttx tedcruz on my first day i will...</td>\n",
              "      <td>Positive</td>\n",
              "    </tr>\n",
              "    <tr>\n",
              "      <th>6</th>\n",
              "      <td>rt warriorwoman91 i liked her and was happy wh...</td>\n",
              "      <td>Negative</td>\n",
              "    </tr>\n",
              "    <tr>\n",
              "      <th>...</th>\n",
              "      <td>...</td>\n",
              "      <td>...</td>\n",
              "    </tr>\n",
              "    <tr>\n",
              "      <th>13866</th>\n",
              "      <td>rt cappyyarbrough love to see men who will nev...</td>\n",
              "      <td>Negative</td>\n",
              "    </tr>\n",
              "    <tr>\n",
              "      <th>13867</th>\n",
              "      <td>rt georgehenryw who thought huckabee exceeded ...</td>\n",
              "      <td>Positive</td>\n",
              "    </tr>\n",
              "    <tr>\n",
              "      <th>13868</th>\n",
              "      <td>rt lrihendry tedcruz as president i will alway...</td>\n",
              "      <td>Positive</td>\n",
              "    </tr>\n",
              "    <tr>\n",
              "      <th>13869</th>\n",
              "      <td>rt jrehling gopdebate donald trump says that h...</td>\n",
              "      <td>Negative</td>\n",
              "    </tr>\n",
              "    <tr>\n",
              "      <th>13870</th>\n",
              "      <td>rt lrihendry tedcruz headed into the president...</td>\n",
              "      <td>Positive</td>\n",
              "    </tr>\n",
              "  </tbody>\n",
              "</table>\n",
              "<p>10729 rows × 2 columns</p>\n",
              "</div>\n",
              "      <button class=\"colab-df-convert\" onclick=\"convertToInteractive('df-8e6a0728-bf1c-4dfc-acf4-b37f78156ab6')\"\n",
              "              title=\"Convert this dataframe to an interactive table.\"\n",
              "              style=\"display:none;\">\n",
              "        \n",
              "  <svg xmlns=\"http://www.w3.org/2000/svg\" height=\"24px\"viewBox=\"0 0 24 24\"\n",
              "       width=\"24px\">\n",
              "    <path d=\"M0 0h24v24H0V0z\" fill=\"none\"/>\n",
              "    <path d=\"M18.56 5.44l.94 2.06.94-2.06 2.06-.94-2.06-.94-.94-2.06-.94 2.06-2.06.94zm-11 1L8.5 8.5l.94-2.06 2.06-.94-2.06-.94L8.5 2.5l-.94 2.06-2.06.94zm10 10l.94 2.06.94-2.06 2.06-.94-2.06-.94-.94-2.06-.94 2.06-2.06.94z\"/><path d=\"M17.41 7.96l-1.37-1.37c-.4-.4-.92-.59-1.43-.59-.52 0-1.04.2-1.43.59L10.3 9.45l-7.72 7.72c-.78.78-.78 2.05 0 2.83L4 21.41c.39.39.9.59 1.41.59.51 0 1.02-.2 1.41-.59l7.78-7.78 2.81-2.81c.8-.78.8-2.07 0-2.86zM5.41 20L4 18.59l7.72-7.72 1.47 1.35L5.41 20z\"/>\n",
              "  </svg>\n",
              "      </button>\n",
              "      \n",
              "  <style>\n",
              "    .colab-df-container {\n",
              "      display:flex;\n",
              "      flex-wrap:wrap;\n",
              "      gap: 12px;\n",
              "    }\n",
              "\n",
              "    .colab-df-convert {\n",
              "      background-color: #E8F0FE;\n",
              "      border: none;\n",
              "      border-radius: 50%;\n",
              "      cursor: pointer;\n",
              "      display: none;\n",
              "      fill: #1967D2;\n",
              "      height: 32px;\n",
              "      padding: 0 0 0 0;\n",
              "      width: 32px;\n",
              "    }\n",
              "\n",
              "    .colab-df-convert:hover {\n",
              "      background-color: #E2EBFA;\n",
              "      box-shadow: 0px 1px 2px rgba(60, 64, 67, 0.3), 0px 1px 3px 1px rgba(60, 64, 67, 0.15);\n",
              "      fill: #174EA6;\n",
              "    }\n",
              "\n",
              "    [theme=dark] .colab-df-convert {\n",
              "      background-color: #3B4455;\n",
              "      fill: #D2E3FC;\n",
              "    }\n",
              "\n",
              "    [theme=dark] .colab-df-convert:hover {\n",
              "      background-color: #434B5C;\n",
              "      box-shadow: 0px 1px 3px 1px rgba(0, 0, 0, 0.15);\n",
              "      filter: drop-shadow(0px 1px 2px rgba(0, 0, 0, 0.3));\n",
              "      fill: #FFFFFF;\n",
              "    }\n",
              "  </style>\n",
              "\n",
              "      <script>\n",
              "        const buttonEl =\n",
              "          document.querySelector('#df-8e6a0728-bf1c-4dfc-acf4-b37f78156ab6 button.colab-df-convert');\n",
              "        buttonEl.style.display =\n",
              "          google.colab.kernel.accessAllowed ? 'block' : 'none';\n",
              "\n",
              "        async function convertToInteractive(key) {\n",
              "          const element = document.querySelector('#df-8e6a0728-bf1c-4dfc-acf4-b37f78156ab6');\n",
              "          const dataTable =\n",
              "            await google.colab.kernel.invokeFunction('convertToInteractive',\n",
              "                                                     [key], {});\n",
              "          if (!dataTable) return;\n",
              "\n",
              "          const docLinkHtml = 'Like what you see? Visit the ' +\n",
              "            '<a target=\"_blank\" href=https://colab.research.google.com/notebooks/data_table.ipynb>data table notebook</a>'\n",
              "            + ' to learn more about interactive tables.';\n",
              "          element.innerHTML = '';\n",
              "          dataTable['output_type'] = 'display_data';\n",
              "          await google.colab.output.renderOutput(dataTable, element);\n",
              "          const docLink = document.createElement('div');\n",
              "          docLink.innerHTML = docLinkHtml;\n",
              "          element.appendChild(docLink);\n",
              "        }\n",
              "      </script>\n",
              "    </div>\n",
              "  </div>\n",
              "  "
            ],
            "text/plain": [
              "                                                    text sentiment\n",
              "1      rt scottwalker didnt catch the full gopdebate ...  Positive\n",
              "3      rt robgeorge that carly fiorina is trending  h...  Positive\n",
              "4      rt danscavino gopdebate w realdonaldtrump deli...  Positive\n",
              "5      rt gregabbotttx tedcruz on my first day i will...  Positive\n",
              "6      rt warriorwoman91 i liked her and was happy wh...  Negative\n",
              "...                                                  ...       ...\n",
              "13866  rt cappyyarbrough love to see men who will nev...  Negative\n",
              "13867  rt georgehenryw who thought huckabee exceeded ...  Positive\n",
              "13868  rt lrihendry tedcruz as president i will alway...  Positive\n",
              "13869  rt jrehling gopdebate donald trump says that h...  Negative\n",
              "13870  rt lrihendry tedcruz headed into the president...  Positive\n",
              "\n",
              "[10729 rows x 2 columns]"
            ]
          },
          "execution_count": 11,
          "metadata": {},
          "output_type": "execute_result"
        }
      ],
      "source": [
        "data['text'] = data['text'].apply((lambda x: re.sub('[^a-z0-9\\s]','',x))) #The syntax for re. sub() is re. sub(pattern,repl,string).\n",
        "data"
      ]
    },
    {
      "cell_type": "code",
      "execution_count": 12,
      "metadata": {
        "colab": {
          "base_uri": "https://localhost:8080/"
        },
        "id": "e0peGli5JWay",
        "outputId": "30a11f15-329d-4b68-f784-832723956ca1"
      },
      "outputs": [
        {
          "data": {
            "text/plain": [
              "text         rt scottwalker didnt catch the full gopdebate ...\n",
              "sentiment                                             Positive\n",
              "Name: 1, dtype: object"
            ]
          },
          "execution_count": 12,
          "metadata": {},
          "output_type": "execute_result"
        }
      ],
      "source": [
        "data.loc[1]"
      ]
    },
    {
      "cell_type": "code",
      "execution_count": 13,
      "metadata": {
        "id": "lgxCtd9RMoQP"
      },
      "outputs": [],
      "source": []
    },
    {
      "cell_type": "code",
      "execution_count": 14,
      "metadata": {
        "colab": {
          "base_uri": "https://localhost:8080/",
          "height": 423
        },
        "id": "L5QEqdQqYav7",
        "outputId": "2289b867-1e73-4707-bcb8-763723146968"
      },
      "outputs": [
        {
          "data": {
            "text/html": [
              "\n",
              "  <div id=\"df-ccf612c7-b0c8-4a22-8546-79a8b8e673b3\">\n",
              "    <div class=\"colab-df-container\">\n",
              "      <div>\n",
              "<style scoped>\n",
              "    .dataframe tbody tr th:only-of-type {\n",
              "        vertical-align: middle;\n",
              "    }\n",
              "\n",
              "    .dataframe tbody tr th {\n",
              "        vertical-align: top;\n",
              "    }\n",
              "\n",
              "    .dataframe thead th {\n",
              "        text-align: right;\n",
              "    }\n",
              "</style>\n",
              "<table border=\"1\" class=\"dataframe\">\n",
              "  <thead>\n",
              "    <tr style=\"text-align: right;\">\n",
              "      <th></th>\n",
              "      <th>text</th>\n",
              "      <th>sentiment</th>\n",
              "    </tr>\n",
              "  </thead>\n",
              "  <tbody>\n",
              "    <tr>\n",
              "      <th>1</th>\n",
              "      <td>scottwalker didnt catch the full gopdebate la...</td>\n",
              "      <td>Positive</td>\n",
              "    </tr>\n",
              "    <tr>\n",
              "      <th>3</th>\n",
              "      <td>robgeorge that carly fiorina is trending  hou...</td>\n",
              "      <td>Positive</td>\n",
              "    </tr>\n",
              "    <tr>\n",
              "      <th>4</th>\n",
              "      <td>danscavino gopdebate w realdonaldtrump delive...</td>\n",
              "      <td>Positive</td>\n",
              "    </tr>\n",
              "    <tr>\n",
              "      <th>5</th>\n",
              "      <td>gregabbotttx tedcruz on my first day i will r...</td>\n",
              "      <td>Positive</td>\n",
              "    </tr>\n",
              "    <tr>\n",
              "      <th>6</th>\n",
              "      <td>warriorwoman91 i liked her and was happy when...</td>\n",
              "      <td>Negative</td>\n",
              "    </tr>\n",
              "    <tr>\n",
              "      <th>...</th>\n",
              "      <td>...</td>\n",
              "      <td>...</td>\n",
              "    </tr>\n",
              "    <tr>\n",
              "      <th>13866</th>\n",
              "      <td>cappyyarbrough love to see men who will never...</td>\n",
              "      <td>Negative</td>\n",
              "    </tr>\n",
              "    <tr>\n",
              "      <th>13867</th>\n",
              "      <td>georgehenryw who thought huckabee exceeded th...</td>\n",
              "      <td>Positive</td>\n",
              "    </tr>\n",
              "    <tr>\n",
              "      <th>13868</th>\n",
              "      <td>lrihendry tedcruz as president i will always ...</td>\n",
              "      <td>Positive</td>\n",
              "    </tr>\n",
              "    <tr>\n",
              "      <th>13869</th>\n",
              "      <td>jrehling gopdebate donald trump says that he ...</td>\n",
              "      <td>Negative</td>\n",
              "    </tr>\n",
              "    <tr>\n",
              "      <th>13870</th>\n",
              "      <td>lrihendry tedcruz headed into the presidentia...</td>\n",
              "      <td>Positive</td>\n",
              "    </tr>\n",
              "  </tbody>\n",
              "</table>\n",
              "<p>10729 rows × 2 columns</p>\n",
              "</div>\n",
              "      <button class=\"colab-df-convert\" onclick=\"convertToInteractive('df-ccf612c7-b0c8-4a22-8546-79a8b8e673b3')\"\n",
              "              title=\"Convert this dataframe to an interactive table.\"\n",
              "              style=\"display:none;\">\n",
              "        \n",
              "  <svg xmlns=\"http://www.w3.org/2000/svg\" height=\"24px\"viewBox=\"0 0 24 24\"\n",
              "       width=\"24px\">\n",
              "    <path d=\"M0 0h24v24H0V0z\" fill=\"none\"/>\n",
              "    <path d=\"M18.56 5.44l.94 2.06.94-2.06 2.06-.94-2.06-.94-.94-2.06-.94 2.06-2.06.94zm-11 1L8.5 8.5l.94-2.06 2.06-.94-2.06-.94L8.5 2.5l-.94 2.06-2.06.94zm10 10l.94 2.06.94-2.06 2.06-.94-2.06-.94-.94-2.06-.94 2.06-2.06.94z\"/><path d=\"M17.41 7.96l-1.37-1.37c-.4-.4-.92-.59-1.43-.59-.52 0-1.04.2-1.43.59L10.3 9.45l-7.72 7.72c-.78.78-.78 2.05 0 2.83L4 21.41c.39.39.9.59 1.41.59.51 0 1.02-.2 1.41-.59l7.78-7.78 2.81-2.81c.8-.78.8-2.07 0-2.86zM5.41 20L4 18.59l7.72-7.72 1.47 1.35L5.41 20z\"/>\n",
              "  </svg>\n",
              "      </button>\n",
              "      \n",
              "  <style>\n",
              "    .colab-df-container {\n",
              "      display:flex;\n",
              "      flex-wrap:wrap;\n",
              "      gap: 12px;\n",
              "    }\n",
              "\n",
              "    .colab-df-convert {\n",
              "      background-color: #E8F0FE;\n",
              "      border: none;\n",
              "      border-radius: 50%;\n",
              "      cursor: pointer;\n",
              "      display: none;\n",
              "      fill: #1967D2;\n",
              "      height: 32px;\n",
              "      padding: 0 0 0 0;\n",
              "      width: 32px;\n",
              "    }\n",
              "\n",
              "    .colab-df-convert:hover {\n",
              "      background-color: #E2EBFA;\n",
              "      box-shadow: 0px 1px 2px rgba(60, 64, 67, 0.3), 0px 1px 3px 1px rgba(60, 64, 67, 0.15);\n",
              "      fill: #174EA6;\n",
              "    }\n",
              "\n",
              "    [theme=dark] .colab-df-convert {\n",
              "      background-color: #3B4455;\n",
              "      fill: #D2E3FC;\n",
              "    }\n",
              "\n",
              "    [theme=dark] .colab-df-convert:hover {\n",
              "      background-color: #434B5C;\n",
              "      box-shadow: 0px 1px 3px 1px rgba(0, 0, 0, 0.15);\n",
              "      filter: drop-shadow(0px 1px 2px rgba(0, 0, 0, 0.3));\n",
              "      fill: #FFFFFF;\n",
              "    }\n",
              "  </style>\n",
              "\n",
              "      <script>\n",
              "        const buttonEl =\n",
              "          document.querySelector('#df-ccf612c7-b0c8-4a22-8546-79a8b8e673b3 button.colab-df-convert');\n",
              "        buttonEl.style.display =\n",
              "          google.colab.kernel.accessAllowed ? 'block' : 'none';\n",
              "\n",
              "        async function convertToInteractive(key) {\n",
              "          const element = document.querySelector('#df-ccf612c7-b0c8-4a22-8546-79a8b8e673b3');\n",
              "          const dataTable =\n",
              "            await google.colab.kernel.invokeFunction('convertToInteractive',\n",
              "                                                     [key], {});\n",
              "          if (!dataTable) return;\n",
              "\n",
              "          const docLinkHtml = 'Like what you see? Visit the ' +\n",
              "            '<a target=\"_blank\" href=https://colab.research.google.com/notebooks/data_table.ipynb>data table notebook</a>'\n",
              "            + ' to learn more about interactive tables.';\n",
              "          element.innerHTML = '';\n",
              "          dataTable['output_type'] = 'display_data';\n",
              "          await google.colab.output.renderOutput(dataTable, element);\n",
              "          const docLink = document.createElement('div');\n",
              "          docLink.innerHTML = docLinkHtml;\n",
              "          element.appendChild(docLink);\n",
              "        }\n",
              "      </script>\n",
              "    </div>\n",
              "  </div>\n",
              "  "
            ],
            "text/plain": [
              "                                                    text sentiment\n",
              "1       scottwalker didnt catch the full gopdebate la...  Positive\n",
              "3       robgeorge that carly fiorina is trending  hou...  Positive\n",
              "4       danscavino gopdebate w realdonaldtrump delive...  Positive\n",
              "5       gregabbotttx tedcruz on my first day i will r...  Positive\n",
              "6       warriorwoman91 i liked her and was happy when...  Negative\n",
              "...                                                  ...       ...\n",
              "13866   cappyyarbrough love to see men who will never...  Negative\n",
              "13867   georgehenryw who thought huckabee exceeded th...  Positive\n",
              "13868   lrihendry tedcruz as president i will always ...  Positive\n",
              "13869   jrehling gopdebate donald trump says that he ...  Negative\n",
              "13870   lrihendry tedcruz headed into the presidentia...  Positive\n",
              "\n",
              "[10729 rows x 2 columns]"
            ]
          },
          "execution_count": 14,
          "metadata": {},
          "output_type": "execute_result"
        }
      ],
      "source": [
        "for index,row in data.iterrows():\n",
        "      row[0] = row[0].replace('rt ',' ')\n",
        "data"
      ]
    },
    {
      "cell_type": "code",
      "execution_count": 15,
      "metadata": {
        "colab": {
          "base_uri": "https://localhost:8080/",
          "height": 112
        },
        "id": "m0al0_9FZNp3",
        "outputId": "9cf7bba8-3d2b-4d32-a305-30752020619e"
      },
      "outputs": [
        {
          "data": {
            "text/html": [
              "\n",
              "  <div id=\"df-ffa9bab5-8e06-477f-b350-39c7f967a1f5\">\n",
              "    <div class=\"colab-df-container\">\n",
              "      <div>\n",
              "<style scoped>\n",
              "    .dataframe tbody tr th:only-of-type {\n",
              "        vertical-align: middle;\n",
              "    }\n",
              "\n",
              "    .dataframe tbody tr th {\n",
              "        vertical-align: top;\n",
              "    }\n",
              "\n",
              "    .dataframe thead th {\n",
              "        text-align: right;\n",
              "    }\n",
              "</style>\n",
              "<table border=\"1\" class=\"dataframe\">\n",
              "  <thead>\n",
              "    <tr style=\"text-align: right;\">\n",
              "      <th></th>\n",
              "      <th>text</th>\n",
              "      <th>sentiment</th>\n",
              "    </tr>\n",
              "  </thead>\n",
              "  <tbody>\n",
              "    <tr>\n",
              "      <th>1</th>\n",
              "      <td>scottwalker didnt catch the full gopdebate la...</td>\n",
              "      <td>Positive</td>\n",
              "    </tr>\n",
              "    <tr>\n",
              "      <th>3</th>\n",
              "      <td>robgeorge that carly fiorina is trending  hou...</td>\n",
              "      <td>Positive</td>\n",
              "    </tr>\n",
              "  </tbody>\n",
              "</table>\n",
              "</div>\n",
              "      <button class=\"colab-df-convert\" onclick=\"convertToInteractive('df-ffa9bab5-8e06-477f-b350-39c7f967a1f5')\"\n",
              "              title=\"Convert this dataframe to an interactive table.\"\n",
              "              style=\"display:none;\">\n",
              "        \n",
              "  <svg xmlns=\"http://www.w3.org/2000/svg\" height=\"24px\"viewBox=\"0 0 24 24\"\n",
              "       width=\"24px\">\n",
              "    <path d=\"M0 0h24v24H0V0z\" fill=\"none\"/>\n",
              "    <path d=\"M18.56 5.44l.94 2.06.94-2.06 2.06-.94-2.06-.94-.94-2.06-.94 2.06-2.06.94zm-11 1L8.5 8.5l.94-2.06 2.06-.94-2.06-.94L8.5 2.5l-.94 2.06-2.06.94zm10 10l.94 2.06.94-2.06 2.06-.94-2.06-.94-.94-2.06-.94 2.06-2.06.94z\"/><path d=\"M17.41 7.96l-1.37-1.37c-.4-.4-.92-.59-1.43-.59-.52 0-1.04.2-1.43.59L10.3 9.45l-7.72 7.72c-.78.78-.78 2.05 0 2.83L4 21.41c.39.39.9.59 1.41.59.51 0 1.02-.2 1.41-.59l7.78-7.78 2.81-2.81c.8-.78.8-2.07 0-2.86zM5.41 20L4 18.59l7.72-7.72 1.47 1.35L5.41 20z\"/>\n",
              "  </svg>\n",
              "      </button>\n",
              "      \n",
              "  <style>\n",
              "    .colab-df-container {\n",
              "      display:flex;\n",
              "      flex-wrap:wrap;\n",
              "      gap: 12px;\n",
              "    }\n",
              "\n",
              "    .colab-df-convert {\n",
              "      background-color: #E8F0FE;\n",
              "      border: none;\n",
              "      border-radius: 50%;\n",
              "      cursor: pointer;\n",
              "      display: none;\n",
              "      fill: #1967D2;\n",
              "      height: 32px;\n",
              "      padding: 0 0 0 0;\n",
              "      width: 32px;\n",
              "    }\n",
              "\n",
              "    .colab-df-convert:hover {\n",
              "      background-color: #E2EBFA;\n",
              "      box-shadow: 0px 1px 2px rgba(60, 64, 67, 0.3), 0px 1px 3px 1px rgba(60, 64, 67, 0.15);\n",
              "      fill: #174EA6;\n",
              "    }\n",
              "\n",
              "    [theme=dark] .colab-df-convert {\n",
              "      background-color: #3B4455;\n",
              "      fill: #D2E3FC;\n",
              "    }\n",
              "\n",
              "    [theme=dark] .colab-df-convert:hover {\n",
              "      background-color: #434B5C;\n",
              "      box-shadow: 0px 1px 3px 1px rgba(0, 0, 0, 0.15);\n",
              "      filter: drop-shadow(0px 1px 2px rgba(0, 0, 0, 0.3));\n",
              "      fill: #FFFFFF;\n",
              "    }\n",
              "  </style>\n",
              "\n",
              "      <script>\n",
              "        const buttonEl =\n",
              "          document.querySelector('#df-ffa9bab5-8e06-477f-b350-39c7f967a1f5 button.colab-df-convert');\n",
              "        buttonEl.style.display =\n",
              "          google.colab.kernel.accessAllowed ? 'block' : 'none';\n",
              "\n",
              "        async function convertToInteractive(key) {\n",
              "          const element = document.querySelector('#df-ffa9bab5-8e06-477f-b350-39c7f967a1f5');\n",
              "          const dataTable =\n",
              "            await google.colab.kernel.invokeFunction('convertToInteractive',\n",
              "                                                     [key], {});\n",
              "          if (!dataTable) return;\n",
              "\n",
              "          const docLinkHtml = 'Like what you see? Visit the ' +\n",
              "            '<a target=\"_blank\" href=https://colab.research.google.com/notebooks/data_table.ipynb>data table notebook</a>'\n",
              "            + ' to learn more about interactive tables.';\n",
              "          element.innerHTML = '';\n",
              "          dataTable['output_type'] = 'display_data';\n",
              "          await google.colab.output.renderOutput(dataTable, element);\n",
              "          const docLink = document.createElement('div');\n",
              "          docLink.innerHTML = docLinkHtml;\n",
              "          element.appendChild(docLink);\n",
              "        }\n",
              "      </script>\n",
              "    </div>\n",
              "  </div>\n",
              "  "
            ],
            "text/plain": [
              "                                                text sentiment\n",
              "1   scottwalker didnt catch the full gopdebate la...  Positive\n",
              "3   robgeorge that carly fiorina is trending  hou...  Positive"
            ]
          },
          "execution_count": 15,
          "metadata": {},
          "output_type": "execute_result"
        }
      ],
      "source": [
        "data[0:2]"
      ]
    },
    {
      "cell_type": "code",
      "execution_count": 16,
      "metadata": {
        "colab": {
          "base_uri": "https://localhost:8080/",
          "height": 53
        },
        "id": "UKoVUia6NQsV",
        "outputId": "828fe343-0a96-4a46-8570-53728d704514"
      },
      "outputs": [
        {
          "data": {
            "application/vnd.google.colaboratory.intrinsic+json": {
              "type": "string"
            },
            "text/plain": [
              "' robgeorge that carly fiorina is trending  hours after her debate  above any of the men in justcompleted gopdebate says shes on '"
            ]
          },
          "execution_count": 16,
          "metadata": {},
          "output_type": "execute_result"
        }
      ],
      "source": [
        "data['text'].values[1]"
      ]
    },
    {
      "cell_type": "code",
      "execution_count": 17,
      "metadata": {
        "colab": {
          "base_uri": "https://localhost:8080/",
          "height": 36
        },
        "id": "kMcVONiyy-m_",
        "outputId": "f5fed7af-06e3-4e36-9eaf-7cc1bf53fe44"
      },
      "outputs": [
        {
          "data": {
            "application/vnd.google.colaboratory.intrinsic+json": {
              "type": "string"
            },
            "text/plain": [
              "' pattonoswalt i loved scott walker as mark harmons romantic rival in summer school look it up gopdebate'"
            ]
          },
          "execution_count": 17,
          "metadata": {},
          "output_type": "execute_result"
        }
      ],
      "source": [
        "data['text'].values[10]"
      ]
    },
    {
      "cell_type": "code",
      "execution_count": 18,
      "metadata": {
        "colab": {
          "base_uri": "https://localhost:8080/",
          "height": 36
        },
        "id": "-JIacpc47WZl",
        "outputId": "68f5c0ff-e86a-4c64-f9c9-228a279d28a0"
      },
      "outputs": [
        {
          "data": {
            "application/vnd.google.colaboratory.intrinsic+json": {
              "type": "string"
            },
            "text/plain": [
              "'Positive'"
            ]
          },
          "execution_count": 18,
          "metadata": {},
          "output_type": "execute_result"
        }
      ],
      "source": [
        "data['sentiment'].values[10]"
      ]
    },
    {
      "cell_type": "code",
      "execution_count": 19,
      "metadata": {
        "colab": {
          "base_uri": "https://localhost:8080/",
          "height": 423
        },
        "id": "myPlIX2zPaH_",
        "outputId": "8c1cbf72-fd0c-4292-ed0b-f1fc4711fb6e"
      },
      "outputs": [
        {
          "data": {
            "text/html": [
              "\n",
              "  <div id=\"df-3d075d85-4b87-41e1-a4db-3257ea7a7d37\">\n",
              "    <div class=\"colab-df-container\">\n",
              "      <div>\n",
              "<style scoped>\n",
              "    .dataframe tbody tr th:only-of-type {\n",
              "        vertical-align: middle;\n",
              "    }\n",
              "\n",
              "    .dataframe tbody tr th {\n",
              "        vertical-align: top;\n",
              "    }\n",
              "\n",
              "    .dataframe thead th {\n",
              "        text-align: right;\n",
              "    }\n",
              "</style>\n",
              "<table border=\"1\" class=\"dataframe\">\n",
              "  <thead>\n",
              "    <tr style=\"text-align: right;\">\n",
              "      <th></th>\n",
              "      <th>text</th>\n",
              "      <th>sentiment</th>\n",
              "    </tr>\n",
              "  </thead>\n",
              "  <tbody>\n",
              "    <tr>\n",
              "      <th>1</th>\n",
              "      <td>scottwalker didnt catch the full gopdebate la...</td>\n",
              "      <td>Positive</td>\n",
              "    </tr>\n",
              "    <tr>\n",
              "      <th>3</th>\n",
              "      <td>robgeorge that carly fiorina is trending  hou...</td>\n",
              "      <td>Positive</td>\n",
              "    </tr>\n",
              "    <tr>\n",
              "      <th>4</th>\n",
              "      <td>danscavino gopdebate w realdonaldtrump delive...</td>\n",
              "      <td>Positive</td>\n",
              "    </tr>\n",
              "    <tr>\n",
              "      <th>5</th>\n",
              "      <td>gregabbotttx tedcruz on my first day i will r...</td>\n",
              "      <td>Positive</td>\n",
              "    </tr>\n",
              "    <tr>\n",
              "      <th>11</th>\n",
              "      <td>waynedupreeshow just woke up to tweet this ou...</td>\n",
              "      <td>Positive</td>\n",
              "    </tr>\n",
              "    <tr>\n",
              "      <th>...</th>\n",
              "      <td>...</td>\n",
              "      <td>...</td>\n",
              "    </tr>\n",
              "    <tr>\n",
              "      <th>13859</th>\n",
              "      <td>best line of gopdebate was immigration without...</td>\n",
              "      <td>Positive</td>\n",
              "    </tr>\n",
              "    <tr>\n",
              "      <th>13862</th>\n",
              "      <td>rwsurfergirl trump has got it right nobody wo...</td>\n",
              "      <td>Positive</td>\n",
              "    </tr>\n",
              "    <tr>\n",
              "      <th>13867</th>\n",
              "      <td>georgehenryw who thought huckabee exceeded th...</td>\n",
              "      <td>Positive</td>\n",
              "    </tr>\n",
              "    <tr>\n",
              "      <th>13868</th>\n",
              "      <td>lrihendry tedcruz as president i will always ...</td>\n",
              "      <td>Positive</td>\n",
              "    </tr>\n",
              "    <tr>\n",
              "      <th>13870</th>\n",
              "      <td>lrihendry tedcruz headed into the presidentia...</td>\n",
              "      <td>Positive</td>\n",
              "    </tr>\n",
              "  </tbody>\n",
              "</table>\n",
              "<p>2236 rows × 2 columns</p>\n",
              "</div>\n",
              "      <button class=\"colab-df-convert\" onclick=\"convertToInteractive('df-3d075d85-4b87-41e1-a4db-3257ea7a7d37')\"\n",
              "              title=\"Convert this dataframe to an interactive table.\"\n",
              "              style=\"display:none;\">\n",
              "        \n",
              "  <svg xmlns=\"http://www.w3.org/2000/svg\" height=\"24px\"viewBox=\"0 0 24 24\"\n",
              "       width=\"24px\">\n",
              "    <path d=\"M0 0h24v24H0V0z\" fill=\"none\"/>\n",
              "    <path d=\"M18.56 5.44l.94 2.06.94-2.06 2.06-.94-2.06-.94-.94-2.06-.94 2.06-2.06.94zm-11 1L8.5 8.5l.94-2.06 2.06-.94-2.06-.94L8.5 2.5l-.94 2.06-2.06.94zm10 10l.94 2.06.94-2.06 2.06-.94-2.06-.94-.94-2.06-.94 2.06-2.06.94z\"/><path d=\"M17.41 7.96l-1.37-1.37c-.4-.4-.92-.59-1.43-.59-.52 0-1.04.2-1.43.59L10.3 9.45l-7.72 7.72c-.78.78-.78 2.05 0 2.83L4 21.41c.39.39.9.59 1.41.59.51 0 1.02-.2 1.41-.59l7.78-7.78 2.81-2.81c.8-.78.8-2.07 0-2.86zM5.41 20L4 18.59l7.72-7.72 1.47 1.35L5.41 20z\"/>\n",
              "  </svg>\n",
              "      </button>\n",
              "      \n",
              "  <style>\n",
              "    .colab-df-container {\n",
              "      display:flex;\n",
              "      flex-wrap:wrap;\n",
              "      gap: 12px;\n",
              "    }\n",
              "\n",
              "    .colab-df-convert {\n",
              "      background-color: #E8F0FE;\n",
              "      border: none;\n",
              "      border-radius: 50%;\n",
              "      cursor: pointer;\n",
              "      display: none;\n",
              "      fill: #1967D2;\n",
              "      height: 32px;\n",
              "      padding: 0 0 0 0;\n",
              "      width: 32px;\n",
              "    }\n",
              "\n",
              "    .colab-df-convert:hover {\n",
              "      background-color: #E2EBFA;\n",
              "      box-shadow: 0px 1px 2px rgba(60, 64, 67, 0.3), 0px 1px 3px 1px rgba(60, 64, 67, 0.15);\n",
              "      fill: #174EA6;\n",
              "    }\n",
              "\n",
              "    [theme=dark] .colab-df-convert {\n",
              "      background-color: #3B4455;\n",
              "      fill: #D2E3FC;\n",
              "    }\n",
              "\n",
              "    [theme=dark] .colab-df-convert:hover {\n",
              "      background-color: #434B5C;\n",
              "      box-shadow: 0px 1px 3px 1px rgba(0, 0, 0, 0.15);\n",
              "      filter: drop-shadow(0px 1px 2px rgba(0, 0, 0, 0.3));\n",
              "      fill: #FFFFFF;\n",
              "    }\n",
              "  </style>\n",
              "\n",
              "      <script>\n",
              "        const buttonEl =\n",
              "          document.querySelector('#df-3d075d85-4b87-41e1-a4db-3257ea7a7d37 button.colab-df-convert');\n",
              "        buttonEl.style.display =\n",
              "          google.colab.kernel.accessAllowed ? 'block' : 'none';\n",
              "\n",
              "        async function convertToInteractive(key) {\n",
              "          const element = document.querySelector('#df-3d075d85-4b87-41e1-a4db-3257ea7a7d37');\n",
              "          const dataTable =\n",
              "            await google.colab.kernel.invokeFunction('convertToInteractive',\n",
              "                                                     [key], {});\n",
              "          if (!dataTable) return;\n",
              "\n",
              "          const docLinkHtml = 'Like what you see? Visit the ' +\n",
              "            '<a target=\"_blank\" href=https://colab.research.google.com/notebooks/data_table.ipynb>data table notebook</a>'\n",
              "            + ' to learn more about interactive tables.';\n",
              "          element.innerHTML = '';\n",
              "          dataTable['output_type'] = 'display_data';\n",
              "          await google.colab.output.renderOutput(dataTable, element);\n",
              "          const docLink = document.createElement('div');\n",
              "          docLink.innerHTML = docLinkHtml;\n",
              "          element.appendChild(docLink);\n",
              "        }\n",
              "      </script>\n",
              "    </div>\n",
              "  </div>\n",
              "  "
            ],
            "text/plain": [
              "                                                    text sentiment\n",
              "1       scottwalker didnt catch the full gopdebate la...  Positive\n",
              "3       robgeorge that carly fiorina is trending  hou...  Positive\n",
              "4       danscavino gopdebate w realdonaldtrump delive...  Positive\n",
              "5       gregabbotttx tedcruz on my first day i will r...  Positive\n",
              "11      waynedupreeshow just woke up to tweet this ou...  Positive\n",
              "...                                                  ...       ...\n",
              "13859  best line of gopdebate was immigration without...  Positive\n",
              "13862   rwsurfergirl trump has got it right nobody wo...  Positive\n",
              "13867   georgehenryw who thought huckabee exceeded th...  Positive\n",
              "13868   lrihendry tedcruz as president i will always ...  Positive\n",
              "13870   lrihendry tedcruz headed into the presidentia...  Positive\n",
              "\n",
              "[2236 rows x 2 columns]"
            ]
          },
          "execution_count": 19,
          "metadata": {},
          "output_type": "execute_result"
        }
      ],
      "source": [
        "data[ data['sentiment'] == 'Positive']\n",
        "# data.loc[data['sentiment'] == 'Positive']"
      ]
    },
    {
      "cell_type": "code",
      "execution_count": 20,
      "metadata": {
        "colab": {
          "base_uri": "https://localhost:8080/"
        },
        "id": "vjxNcrHgO1tr",
        "outputId": "264c70f4-4b5d-40ec-d166-a3354f583680"
      },
      "outputs": [
        {
          "data": {
            "text/plain": [
              "2236"
            ]
          },
          "execution_count": 20,
          "metadata": {},
          "output_type": "execute_result"
        }
      ],
      "source": [
        "len(data[ data['sentiment'] == 'Positive'])"
      ]
    },
    {
      "cell_type": "code",
      "execution_count": 21,
      "metadata": {
        "colab": {
          "base_uri": "https://localhost:8080/",
          "height": 423
        },
        "id": "3fLZLglnPTE1",
        "outputId": "cf4bf7cd-aad8-42c4-f26b-b12a6a856e55"
      },
      "outputs": [
        {
          "data": {
            "text/html": [
              "\n",
              "  <div id=\"df-dcf06f4f-386f-4673-90ce-4210295d2574\">\n",
              "    <div class=\"colab-df-container\">\n",
              "      <div>\n",
              "<style scoped>\n",
              "    .dataframe tbody tr th:only-of-type {\n",
              "        vertical-align: middle;\n",
              "    }\n",
              "\n",
              "    .dataframe tbody tr th {\n",
              "        vertical-align: top;\n",
              "    }\n",
              "\n",
              "    .dataframe thead th {\n",
              "        text-align: right;\n",
              "    }\n",
              "</style>\n",
              "<table border=\"1\" class=\"dataframe\">\n",
              "  <thead>\n",
              "    <tr style=\"text-align: right;\">\n",
              "      <th></th>\n",
              "      <th>text</th>\n",
              "      <th>sentiment</th>\n",
              "    </tr>\n",
              "  </thead>\n",
              "  <tbody>\n",
              "    <tr>\n",
              "      <th>6</th>\n",
              "      <td>warriorwoman91 i liked her and was happy when...</td>\n",
              "      <td>Negative</td>\n",
              "    </tr>\n",
              "    <tr>\n",
              "      <th>8</th>\n",
              "      <td>deer in the headlights  lizzwinstead ben carso...</td>\n",
              "      <td>Negative</td>\n",
              "    </tr>\n",
              "    <tr>\n",
              "      <th>9</th>\n",
              "      <td>nancyosborne180 last nights debate proved it ...</td>\n",
              "      <td>Negative</td>\n",
              "    </tr>\n",
              "    <tr>\n",
              "      <th>10</th>\n",
              "      <td>jgreendc realdonaldtrump in all fairness billc...</td>\n",
              "      <td>Negative</td>\n",
              "    </tr>\n",
              "    <tr>\n",
              "      <th>12</th>\n",
              "      <td>me reading my familys comments about how great...</td>\n",
              "      <td>Negative</td>\n",
              "    </tr>\n",
              "    <tr>\n",
              "      <th>...</th>\n",
              "      <td>...</td>\n",
              "      <td>...</td>\n",
              "    </tr>\n",
              "    <tr>\n",
              "      <th>13863</th>\n",
              "      <td>so trans soldiers can die for you huckabee but...</td>\n",
              "      <td>Negative</td>\n",
              "    </tr>\n",
              "    <tr>\n",
              "      <th>13864</th>\n",
              "      <td>rwsurfergirl is it just me or does anyone els...</td>\n",
              "      <td>Negative</td>\n",
              "    </tr>\n",
              "    <tr>\n",
              "      <th>13865</th>\n",
              "      <td>rwsurfergirl fox is cherry picking the candid...</td>\n",
              "      <td>Negative</td>\n",
              "    </tr>\n",
              "    <tr>\n",
              "      <th>13866</th>\n",
              "      <td>cappyyarbrough love to see men who will never...</td>\n",
              "      <td>Negative</td>\n",
              "    </tr>\n",
              "    <tr>\n",
              "      <th>13869</th>\n",
              "      <td>jrehling gopdebate donald trump says that he ...</td>\n",
              "      <td>Negative</td>\n",
              "    </tr>\n",
              "  </tbody>\n",
              "</table>\n",
              "<p>8493 rows × 2 columns</p>\n",
              "</div>\n",
              "      <button class=\"colab-df-convert\" onclick=\"convertToInteractive('df-dcf06f4f-386f-4673-90ce-4210295d2574')\"\n",
              "              title=\"Convert this dataframe to an interactive table.\"\n",
              "              style=\"display:none;\">\n",
              "        \n",
              "  <svg xmlns=\"http://www.w3.org/2000/svg\" height=\"24px\"viewBox=\"0 0 24 24\"\n",
              "       width=\"24px\">\n",
              "    <path d=\"M0 0h24v24H0V0z\" fill=\"none\"/>\n",
              "    <path d=\"M18.56 5.44l.94 2.06.94-2.06 2.06-.94-2.06-.94-.94-2.06-.94 2.06-2.06.94zm-11 1L8.5 8.5l.94-2.06 2.06-.94-2.06-.94L8.5 2.5l-.94 2.06-2.06.94zm10 10l.94 2.06.94-2.06 2.06-.94-2.06-.94-.94-2.06-.94 2.06-2.06.94z\"/><path d=\"M17.41 7.96l-1.37-1.37c-.4-.4-.92-.59-1.43-.59-.52 0-1.04.2-1.43.59L10.3 9.45l-7.72 7.72c-.78.78-.78 2.05 0 2.83L4 21.41c.39.39.9.59 1.41.59.51 0 1.02-.2 1.41-.59l7.78-7.78 2.81-2.81c.8-.78.8-2.07 0-2.86zM5.41 20L4 18.59l7.72-7.72 1.47 1.35L5.41 20z\"/>\n",
              "  </svg>\n",
              "      </button>\n",
              "      \n",
              "  <style>\n",
              "    .colab-df-container {\n",
              "      display:flex;\n",
              "      flex-wrap:wrap;\n",
              "      gap: 12px;\n",
              "    }\n",
              "\n",
              "    .colab-df-convert {\n",
              "      background-color: #E8F0FE;\n",
              "      border: none;\n",
              "      border-radius: 50%;\n",
              "      cursor: pointer;\n",
              "      display: none;\n",
              "      fill: #1967D2;\n",
              "      height: 32px;\n",
              "      padding: 0 0 0 0;\n",
              "      width: 32px;\n",
              "    }\n",
              "\n",
              "    .colab-df-convert:hover {\n",
              "      background-color: #E2EBFA;\n",
              "      box-shadow: 0px 1px 2px rgba(60, 64, 67, 0.3), 0px 1px 3px 1px rgba(60, 64, 67, 0.15);\n",
              "      fill: #174EA6;\n",
              "    }\n",
              "\n",
              "    [theme=dark] .colab-df-convert {\n",
              "      background-color: #3B4455;\n",
              "      fill: #D2E3FC;\n",
              "    }\n",
              "\n",
              "    [theme=dark] .colab-df-convert:hover {\n",
              "      background-color: #434B5C;\n",
              "      box-shadow: 0px 1px 3px 1px rgba(0, 0, 0, 0.15);\n",
              "      filter: drop-shadow(0px 1px 2px rgba(0, 0, 0, 0.3));\n",
              "      fill: #FFFFFF;\n",
              "    }\n",
              "  </style>\n",
              "\n",
              "      <script>\n",
              "        const buttonEl =\n",
              "          document.querySelector('#df-dcf06f4f-386f-4673-90ce-4210295d2574 button.colab-df-convert');\n",
              "        buttonEl.style.display =\n",
              "          google.colab.kernel.accessAllowed ? 'block' : 'none';\n",
              "\n",
              "        async function convertToInteractive(key) {\n",
              "          const element = document.querySelector('#df-dcf06f4f-386f-4673-90ce-4210295d2574');\n",
              "          const dataTable =\n",
              "            await google.colab.kernel.invokeFunction('convertToInteractive',\n",
              "                                                     [key], {});\n",
              "          if (!dataTable) return;\n",
              "\n",
              "          const docLinkHtml = 'Like what you see? Visit the ' +\n",
              "            '<a target=\"_blank\" href=https://colab.research.google.com/notebooks/data_table.ipynb>data table notebook</a>'\n",
              "            + ' to learn more about interactive tables.';\n",
              "          element.innerHTML = '';\n",
              "          dataTable['output_type'] = 'display_data';\n",
              "          await google.colab.output.renderOutput(dataTable, element);\n",
              "          const docLink = document.createElement('div');\n",
              "          docLink.innerHTML = docLinkHtml;\n",
              "          element.appendChild(docLink);\n",
              "        }\n",
              "      </script>\n",
              "    </div>\n",
              "  </div>\n",
              "  "
            ],
            "text/plain": [
              "                                                    text sentiment\n",
              "6       warriorwoman91 i liked her and was happy when...  Negative\n",
              "8      deer in the headlights  lizzwinstead ben carso...  Negative\n",
              "9       nancyosborne180 last nights debate proved it ...  Negative\n",
              "10     jgreendc realdonaldtrump in all fairness billc...  Negative\n",
              "12     me reading my familys comments about how great...  Negative\n",
              "...                                                  ...       ...\n",
              "13863  so trans soldiers can die for you huckabee but...  Negative\n",
              "13864   rwsurfergirl is it just me or does anyone els...  Negative\n",
              "13865   rwsurfergirl fox is cherry picking the candid...  Negative\n",
              "13866   cappyyarbrough love to see men who will never...  Negative\n",
              "13869   jrehling gopdebate donald trump says that he ...  Negative\n",
              "\n",
              "[8493 rows x 2 columns]"
            ]
          },
          "execution_count": 21,
          "metadata": {},
          "output_type": "execute_result"
        }
      ],
      "source": [
        "data[ data['sentiment'] == 'Negative']"
      ]
    },
    {
      "cell_type": "code",
      "execution_count": 22,
      "metadata": {
        "colab": {
          "base_uri": "https://localhost:8080/"
        },
        "id": "ozqMzzViPjN6",
        "outputId": "f5ecd01a-5985-4fa3-d05e-1bf9942a3145"
      },
      "outputs": [
        {
          "data": {
            "text/plain": [
              "8493"
            ]
          },
          "execution_count": 22,
          "metadata": {},
          "output_type": "execute_result"
        }
      ],
      "source": [
        "len(data[ data['sentiment'] == 'Negative'])"
      ]
    },
    {
      "cell_type": "code",
      "execution_count": 23,
      "metadata": {
        "colab": {
          "base_uri": "https://localhost:8080/"
        },
        "id": "9JzUsPdvzITt",
        "outputId": "730aa0fb-eeb5-489a-df5c-3f4c4518ba68"
      },
      "outputs": [
        {
          "data": {
            "text/plain": [
              "array([' scottwalker didnt catch the full gopdebate last night here are some of scotts best lines in 90 seconds walker16 httptcozsff',\n",
              "       ' robgeorge that carly fiorina is trending  hours after her debate  above any of the men in justcompleted gopdebate says shes on ',\n",
              "       ' danscavino gopdebate w realdonaldtrump delivered the highest ratings in the history of presidential debates trump2016 httptco'],\n",
              "      dtype=object)"
            ]
          },
          "execution_count": 23,
          "metadata": {},
          "output_type": "execute_result"
        }
      ],
      "source": [
        "data['text'].values[0:3]"
      ]
    },
    {
      "cell_type": "code",
      "execution_count": 24,
      "metadata": {
        "id": "9O6xyFn4R6ob"
      },
      "outputs": [],
      "source": [
        "top_words = 2000\n",
        "tokenizer = Tokenizer(num_words=top_words, split=' ')\n",
        "tokenizer.fit_on_texts(data['text'].values) "
      ]
    },
    {
      "cell_type": "code",
      "execution_count": 25,
      "metadata": {
        "colab": {
          "base_uri": "https://localhost:8080/"
        },
        "id": "9uPDukImb3Ca",
        "outputId": "2c8608f5-9467-4302-a499-319bd7c095c5"
      },
      "outputs": [
        {
          "data": {
            "text/plain": [
              "{'the': 1,\n",
              " 'gopdebate': 2,\n",
              " 'gopdebates': 3,\n",
              " 'to': 4,\n",
              " 'is': 5,\n",
              " 'of': 6,\n",
              " 'a': 7,\n",
              " 'and': 8,\n",
              " 'i': 9,\n",
              " 'rwsurfergirl': 10,\n",
              " 'you': 11,\n",
              " 'in': 12,\n",
              " 'it': 13,\n",
              " 'for': 14,\n",
              " 'trump': 15,\n",
              " 'that': 16,\n",
              " 'on': 17,\n",
              " 'fox': 18,\n",
              " 'not': 19,\n",
              " 'this': 20,\n",
              " 'was': 21,\n",
              " 'about': 22,\n",
              " 'realdonaldtrump': 23,\n",
              " 'amp': 24,\n",
              " 'news': 25,\n",
              " 'debate': 26,\n",
              " 'from': 27,\n",
              " 'have': 28,\n",
              " 'at': 29,\n",
              " 'we': 30,\n",
              " 'me': 31,\n",
              " 'but': 32,\n",
              " 'he': 33,\n",
              " 'be': 34,\n",
              " 'candidates': 35,\n",
              " 'are': 36,\n",
              " 'just': 37,\n",
              " 'like': 38,\n",
              " 'last': 39,\n",
              " 'they': 40,\n",
              " 'so': 41,\n",
              " 'gop': 42,\n",
              " 'dont': 43,\n",
              " 'megynkelly': 44,\n",
              " 'with': 45,\n",
              " 'all': 46,\n",
              " 'up': 47,\n",
              " 'what': 48,\n",
              " 'people': 49,\n",
              " 'jeb': 50,\n",
              " 'foxnews': 51,\n",
              " 'who': 52,\n",
              " 'my': 53,\n",
              " 'how': 54,\n",
              " 'as': 55,\n",
              " 'if': 56,\n",
              " 'bush': 57,\n",
              " 'night': 58,\n",
              " 'has': 59,\n",
              " 'no': 60,\n",
              " 'their': 61,\n",
              " 'by': 62,\n",
              " 'when': 63,\n",
              " 'can': 64,\n",
              " 'do': 65,\n",
              " 'one': 66,\n",
              " 'more': 67,\n",
              " 'im': 68,\n",
              " 'out': 69,\n",
              " 'or': 70,\n",
              " 'would': 71,\n",
              " 'his': 72,\n",
              " 'him': 73,\n",
              " 'chris': 74,\n",
              " 'get': 75,\n",
              " 'think': 76,\n",
              " 'republican': 77,\n",
              " 'donald': 78,\n",
              " 'president': 79,\n",
              " 'really': 80,\n",
              " 'its': 81,\n",
              " 'will': 82,\n",
              " 'why': 83,\n",
              " 'want': 84,\n",
              " 'did': 85,\n",
              " 'ask': 86,\n",
              " 'cruz': 87,\n",
              " 'god': 88,\n",
              " 'need': 89,\n",
              " 'these': 90,\n",
              " 'questions': 91,\n",
              " 'your': 92,\n",
              " 'rubio': 93,\n",
              " 'should': 94,\n",
              " 'them': 95,\n",
              " 'carson': 96,\n",
              " 'next': 97,\n",
              " 'wallace': 98,\n",
              " 'an': 99,\n",
              " 'very': 100,\n",
              " 'than': 101,\n",
              " 'after': 102,\n",
              " 'only': 103,\n",
              " 'question': 104,\n",
              " 'were': 105,\n",
              " 'said': 106,\n",
              " 'women': 107,\n",
              " 'time': 108,\n",
              " 'doesnt': 109,\n",
              " 'know': 110,\n",
              " 'our': 111,\n",
              " 'fair': 112,\n",
              " 'other': 113,\n",
              " 'does': 114,\n",
              " 'now': 115,\n",
              " 'huckabee': 116,\n",
              " 'watching': 117,\n",
              " 'anyone': 118,\n",
              " 'tonight': 119,\n",
              " 'didnt': 120,\n",
              " 'right': 121,\n",
              " 'trying': 122,\n",
              " 'face': 123,\n",
              " 'candidate': 124,\n",
              " 'tedcruz': 125,\n",
              " 'balanced': 126,\n",
              " 'job': 127,\n",
              " 'hear': 128,\n",
              " 'most': 129,\n",
              " 'american': 130,\n",
              " 'see': 131,\n",
              " 'where': 132,\n",
              " 'any': 133,\n",
              " 'cant': 134,\n",
              " 'go': 135,\n",
              " 'good': 136,\n",
              " 'youre': 137,\n",
              " 'megyn': 138,\n",
              " 'america': 139,\n",
              " 'listen': 140,\n",
              " 'say': 141,\n",
              " 'stage': 142,\n",
              " 'great': 143,\n",
              " 'money': 144,\n",
              " 'got': 145,\n",
              " 'nights': 146,\n",
              " 'attack': 147,\n",
              " 'reminds': 148,\n",
              " 'tcot': 149,\n",
              " 'never': 150,\n",
              " 'else': 151,\n",
              " 'field': 152,\n",
              " 'us': 153,\n",
              " 'supermanhotmale': 154,\n",
              " 'am': 155,\n",
              " 'monaeltahawy': 156,\n",
              " 'take': 157,\n",
              " 'doing': 158,\n",
              " 'music': 159,\n",
              " 'there': 160,\n",
              " 'elevator': 161,\n",
              " 'obviously': 162,\n",
              " 'party': 163,\n",
              " 'talk': 164,\n",
              " 'walker': 165,\n",
              " 'influence': 166,\n",
              " 'ben': 167,\n",
              " 'set': 168,\n",
              " 'her': 169,\n",
              " 'men': 170,\n",
              " 'g': 171,\n",
              " 'best': 172,\n",
              " 'speaking': 173,\n",
              " 'gets': 174,\n",
              " 'pick': 175,\n",
              " 'makeup': 176,\n",
              " 'make': 177,\n",
              " 'carlyfiorina': 178,\n",
              " 'disappointing': 179,\n",
              " 'look': 180,\n",
              " 'thanks': 181,\n",
              " 'states': 182,\n",
              " 'presidential': 183,\n",
              " 'had': 184,\n",
              " 'she': 185,\n",
              " 'going': 186,\n",
              " 'paul': 187,\n",
              " 'united': 188,\n",
              " 'military': 189,\n",
              " 'even': 190,\n",
              " 'obama': 191,\n",
              " 'conducting': 192,\n",
              " 'kasich': 193,\n",
              " 'ted': 194,\n",
              " 'over': 195,\n",
              " 'being': 196,\n",
              " 'watch': 197,\n",
              " 'comes': 198,\n",
              " 'punch': 199,\n",
              " 'vote': 200,\n",
              " 'kelly': 201,\n",
              " 'gopdebat': 202,\n",
              " 'because': 203,\n",
              " 'debates': 204,\n",
              " 'many': 205,\n",
              " 'rid': 206,\n",
              " 'some': 207,\n",
              " 'real': 208,\n",
              " 'tell': 209,\n",
              " 'much': 210,\n",
              " '2': 211,\n",
              " 'better': 212,\n",
              " 'ratings': 213,\n",
              " 'country': 214,\n",
              " 'love': 215,\n",
              " 'each': 216,\n",
              " 'hes': 217,\n",
              " 'well': 218,\n",
              " 'id': 219,\n",
              " 'hillary': 220,\n",
              " 'talking': 221,\n",
              " 's': 222,\n",
              " 'won': 223,\n",
              " 'stoping': 224,\n",
              " 'rights': 225,\n",
              " 'during': 226,\n",
              " 'together': 227,\n",
              " 'christie': 228,\n",
              " 'man': 229,\n",
              " 'rand': 230,\n",
              " 'says': 231,\n",
              " 'issues': 232,\n",
              " 'mean': 233,\n",
              " 'here': 234,\n",
              " 'big': 235,\n",
              " 'band': 236,\n",
              " 'expose': 237,\n",
              " 'randpaul': 238,\n",
              " 'softball': 239,\n",
              " 'off': 240,\n",
              " 'show': 241,\n",
              " 'oh': 242,\n",
              " 'into': 243,\n",
              " 'break': 244,\n",
              " 'long': 245,\n",
              " 'thats': 246,\n",
              " 'finances': 247,\n",
              " 'picking': 248,\n",
              " 'fiorina': 249,\n",
              " 'been': 250,\n",
              " 'republicans': 251,\n",
              " 'bring': 252,\n",
              " 'politicans': 253,\n",
              " 'someone': 254,\n",
              " 'suppo': 255,\n",
              " 'win': 256,\n",
              " 'kill': 257,\n",
              " 'too': 258,\n",
              " 'cherry': 259,\n",
              " 'first': 260,\n",
              " 'wont': 261,\n",
              " 'http': 262,\n",
              " 'social': 263,\n",
              " 'donaldtrump': 264,\n",
              " 'still': 265,\n",
              " 'then': 266,\n",
              " 'back': 267,\n",
              " 'political': 268,\n",
              " 'thing': 269,\n",
              " 'made': 270,\n",
              " 'immigration': 271,\n",
              " 'speak': 272,\n",
              " 'via': 273,\n",
              " 'way': 274,\n",
              " 'moderators': 275,\n",
              " 'govchristie': 276,\n",
              " 'trumps': 277,\n",
              " 'truth': 278,\n",
              " 'things': 279,\n",
              " 'seem': 280,\n",
              " 'carly': 281,\n",
              " 'winner': 282,\n",
              " 'jebbush': 283,\n",
              " 'could': 284,\n",
              " 'new': 285,\n",
              " 'sure': 286,\n",
              " 'looking': 287,\n",
              " 'adult': 288,\n",
              " '10': 289,\n",
              " 'control': 290,\n",
              " 'woman': 291,\n",
              " 'white': 292,\n",
              " 'given': 293,\n",
              " 'posed': 294,\n",
              " 'raising': 295,\n",
              " 'marco': 296,\n",
              " 'realbencarson': 297,\n",
              " 'marcorubio': 298,\n",
              " 'picturesshould': 299,\n",
              " 'every': 300,\n",
              " 'scott': 301,\n",
              " 'hey': 302,\n",
              " 'ever': 303,\n",
              " '1': 304,\n",
              " 'answer': 305,\n",
              " 'abortion': 306,\n",
              " 'w': 307,\n",
              " 'black': 308,\n",
              " 'u': 309,\n",
              " 'let': 310,\n",
              " 'down': 311,\n",
              " 'lol': 312,\n",
              " 'thinks': 313,\n",
              " 'actually': 314,\n",
              " 'always': 315,\n",
              " 'dear': 316,\n",
              " 'plan': 317,\n",
              " 'gopd': 318,\n",
              " 'kkkorgop': 319,\n",
              " 'everyone': 320,\n",
              " 'democrats': 321,\n",
              " 'lrihendry': 322,\n",
              " 'those': 323,\n",
              " 'ive': 324,\n",
              " 'same': 325,\n",
              " 'hillaryclinton': 326,\n",
              " 'word': 327,\n",
              " 'forward': 328,\n",
              " 'blacklivesmatter': 329,\n",
              " 'call': 330,\n",
              " 'govmikehuckabee': 331,\n",
              " 'lets': 332,\n",
              " 'give': 333,\n",
              " 'life': 334,\n",
              " 'leader': 335,\n",
              " 'saying': 336,\n",
              " 'war': 337,\n",
              " 'johnkasich': 338,\n",
              " 'world': 339,\n",
              " 'again': 340,\n",
              " 'legitimate': 341,\n",
              " 'bad': 342,\n",
              " 'wants': 343,\n",
              " 'admit': 344,\n",
              " 'purpose': 345,\n",
              " 'hell': 346,\n",
              " 'hands': 347,\n",
              " 'nothing': 348,\n",
              " 'lead': 349,\n",
              " 'nails': 350,\n",
              " 'order': 351,\n",
              " 'against': 352,\n",
              " 'wallaces': 353,\n",
              " 'run': 354,\n",
              " 'seen': 355,\n",
              " 'dr': 356,\n",
              " 'enough': 357,\n",
              " 'scottwalker': 358,\n",
              " 'womens': 359,\n",
              " 'problem': 360,\n",
              " 'twitter': 361,\n",
              " 'guys': 362,\n",
              " 'needs': 363,\n",
              " 'guy': 364,\n",
              " 'enjoyed': 365,\n",
              " 'trump2016': 366,\n",
              " 'chrischristie': 367,\n",
              " 'please': 368,\n",
              " 'person': 369,\n",
              " 'seriously': 370,\n",
              " 'fight': 371,\n",
              " 'tv': 372,\n",
              " 'yes': 373,\n",
              " 'thought': 374,\n",
              " 'media': 375,\n",
              " 'hate': 376,\n",
              " 'stop': 377,\n",
              " 'another': 378,\n",
              " 'two': 379,\n",
              " 'keep': 380,\n",
              " 'bodies': 381,\n",
              " 'makes': 382,\n",
              " 'calling': 383,\n",
              " 'which': 384,\n",
              " 'state': 385,\n",
              " 'politics': 386,\n",
              " 'learned': 387,\n",
              " 'years': 388,\n",
              " 'biggest': 389,\n",
              " 'looks': 390,\n",
              " 'americans': 391,\n",
              " 'true': 392,\n",
              " 'change': 393,\n",
              " 'while': 394,\n",
              " 'foxdebate': 395,\n",
              " 'fact': 396,\n",
              " 'wasnt': 397,\n",
              " 'care': 398,\n",
              " 'happened': 399,\n",
              " 'misogyny': 400,\n",
              " 'nomination': 401,\n",
              " 'iran': 402,\n",
              " 'democraticdebates': 403,\n",
              " 'day': 404,\n",
              " 'little': 405,\n",
              " 'getting': 406,\n",
              " 'donniewahlberg': 407,\n",
              " 'asked': 408,\n",
              " 'politicians': 409,\n",
              " 'fun': 410,\n",
              " 'hard': 411,\n",
              " 'watched': 412,\n",
              " 'potus': 413,\n",
              " 'race': 414,\n",
              " 'closing': 415,\n",
              " 'shit': 416,\n",
              " 'audience': 417,\n",
              " 'point': 418,\n",
              " 'lot': 419,\n",
              " 'away': 420,\n",
              " 'voting': 421,\n",
              " 'john': 422,\n",
              " 'climate': 423,\n",
              " 'deserve': 424,\n",
              " 'boy': 425,\n",
              " 'isnt': 426,\n",
              " 'put': 427,\n",
              " '2016': 428,\n",
              " 'damn': 429,\n",
              " 'terrorism': 430,\n",
              " 'civil': 431,\n",
              " 'bettyfckinwhite': 432,\n",
              " 'doubledigit': 433,\n",
              " 'illegal': 434,\n",
              " 'voters': 435,\n",
              " 'bretbaier': 436,\n",
              " 'frankluntz': 437,\n",
              " 'something': 438,\n",
              " 'running': 439,\n",
              " 'thank': 440,\n",
              " 'making': 441,\n",
              " 'clinton': 442,\n",
              " 'believe': 443,\n",
              " 'jamiaw': 444,\n",
              " 'comments': 445,\n",
              " 'theyre': 446,\n",
              " 'before': 447,\n",
              " 'pretty': 448,\n",
              " 'reagan': 449,\n",
              " 'act': 450,\n",
              " 'clear': 451,\n",
              " 'today': 452,\n",
              " 'hair': 453,\n",
              " 'feel': 454,\n",
              " 'ill': 455,\n",
              " 'frontrunner': 456,\n",
              " 'own': 457,\n",
              " 'under': 458,\n",
              " 'democrat': 459,\n",
              " 'anything': 460,\n",
              " 'conservative': 461,\n",
              " 'future': 462,\n",
              " 'wait': 463,\n",
              " 'work': 464,\n",
              " 'brought': 465,\n",
              " 'salmasekela': 466,\n",
              " 'httpt': 467,\n",
              " 'single': 468,\n",
              " 'wins': 469,\n",
              " 'come': 470,\n",
              " 'stupid': 471,\n",
              " 'times': 472,\n",
              " 'performance': 473,\n",
              " 'called': 474,\n",
              " 'gave': 475,\n",
              " 'debatewithbernie': 476,\n",
              " 'less': 477,\n",
              " 'poor': 478,\n",
              " 'seems': 479,\n",
              " 'loser': 480,\n",
              " 'larryelder': 481,\n",
              " 'thingsmike': 482,\n",
              " 'planned': 483,\n",
              " 'far': 484,\n",
              " 'sta': 485,\n",
              " 'mention': 486,\n",
              " 'wrong': 487,\n",
              " 'mike': 488,\n",
              " 'nobody': 489,\n",
              " 'whole': 490,\n",
              " 'favorite': 491,\n",
              " 'answers': 492,\n",
              " 'campaign': 493,\n",
              " 'came': 494,\n",
              " 'fucking': 495,\n",
              " 'kind': 496,\n",
              " 'nine': 497,\n",
              " 'police': 498,\n",
              " 'lost': 499,\n",
              " 'maybe': 500,\n",
              " 'wow': 501,\n",
              " 'cnn': 502,\n",
              " 'tax': 503,\n",
              " 'code': 504,\n",
              " 'ericstonestreet': 505,\n",
              " 'cam': 506,\n",
              " 'gay': 507,\n",
              " 'morning': 508,\n",
              " 'done': 509,\n",
              " '4': 510,\n",
              " 'gopdeb': 511,\n",
              " 'sense': 512,\n",
              " '5': 513,\n",
              " 'live': 514,\n",
              " 'pa': 515,\n",
              " 'also': 516,\n",
              " 'remove': 517,\n",
              " 'process': 518,\n",
              " 'loved': 519,\n",
              " 'parenthood': 520,\n",
              " 'fat': 521,\n",
              " '3': 522,\n",
              " 'jesus': 523,\n",
              " 'went': 524,\n",
              " 'bunch': 525,\n",
              " 'florida': 526,\n",
              " 'end': 527,\n",
              " 'words': 528,\n",
              " 'tonights': 529,\n",
              " 'christian': 530,\n",
              " 'rosie': 531,\n",
              " 'everything': 532,\n",
              " 'help': 533,\n",
              " 'hope': 534,\n",
              " 'kids': 535,\n",
              " 'fuck': 536,\n",
              " 'hugged': 537,\n",
              " 'hold': 538,\n",
              " 'twitterland': 539,\n",
              " 'may': 540,\n",
              " 'line': 541,\n",
              " 'class': 542,\n",
              " 'isis': 543,\n",
              " 'focus': 544,\n",
              " 'saw': 545,\n",
              " 'important': 546,\n",
              " 'conservatives': 547,\n",
              " 'having': 548,\n",
              " 'top': 549,\n",
              " 'group': 550,\n",
              " 'agree': 551,\n",
              " 'racism': 552,\n",
              " 'used': 553,\n",
              " 'green': 554,\n",
              " 'moderator': 555,\n",
              " 'respect': 556,\n",
              " 'must': 557,\n",
              " 'giving': 558,\n",
              " 'old': 559,\n",
              " 'without': 560,\n",
              " 'entertaining': 561,\n",
              " 'deal': 562,\n",
              " 'pimps': 563,\n",
              " 'game': 564,\n",
              " 'record': 565,\n",
              " 'whos': 566,\n",
              " 'matter': 567,\n",
              " 'p2': 568,\n",
              " 'gonna': 569,\n",
              " 'reality': 570,\n",
              " 'security': 571,\n",
              " 'cancel': 572,\n",
              " 'primaries': 573,\n",
              " 'funny': 574,\n",
              " 'primary': 575,\n",
              " 'vs': 576,\n",
              " 'asking': 577,\n",
              " 'sexuality': 578,\n",
              " 'apple': 579,\n",
              " 'election': 580,\n",
              " 'half': 581,\n",
              " 'winners': 582,\n",
              " 'discussing': 583,\n",
              " 'tough': 584,\n",
              " 'find': 585,\n",
              " 'killing': 586,\n",
              " 'facebook': 587,\n",
              " 'thoughts': 588,\n",
              " 'ass': 589,\n",
              " 'tight': 590,\n",
              " 'stay': 591,\n",
              " 'martini': 592,\n",
              " 'government': 593,\n",
              " 'head': 594,\n",
              " 'moment': 595,\n",
              " 'name': 596,\n",
              " 'correct': 597,\n",
              " 'issue': 598,\n",
              " 'r': 599,\n",
              " 'sentedcruz': 600,\n",
              " 'gun': 601,\n",
              " 'disappointed': 602,\n",
              " 'foxnewsdebate': 603,\n",
              " 'heard': 604,\n",
              " 'brain': 605,\n",
              " 'himself': 606,\n",
              " 'guess': 607,\n",
              " 'dwstweets': 608,\n",
              " 'couldnt': 609,\n",
              " 'told': 610,\n",
              " 'prolife': 611,\n",
              " 'theres': 612,\n",
              " 'losers': 613,\n",
              " 'koch': 614,\n",
              " 'instead': 615,\n",
              " 'read': 616,\n",
              " 'mentioned': 617,\n",
              " 'left': 618,\n",
              " 'once': 619,\n",
              " 'ccot': 620,\n",
              " 'arent': 621,\n",
              " 'laws': 622,\n",
              " 'pissed': 623,\n",
              " 'none': 624,\n",
              " 'between': 625,\n",
              " 'around': 626,\n",
              " 'goldietaylor': 627,\n",
              " 'anointed': 628,\n",
              " 'thebaxterbean': 629,\n",
              " 'ht': 630,\n",
              " 'pay': 631,\n",
              " 'wonder': 632,\n",
              " 'gopde': 633,\n",
              " 'both': 634,\n",
              " 'play': 635,\n",
              " 'absolutely': 636,\n",
              " 'ok': 637,\n",
              " 'attacks': 638,\n",
              " 'showed': 639,\n",
              " 'comedy': 640,\n",
              " 'received': 641,\n",
              " 'talks': 642,\n",
              " 'correctness': 643,\n",
              " 'heres': 644,\n",
              " 'remember': 645,\n",
              " '1st': 646,\n",
              " 'httptc': 647,\n",
              " 'wondering': 648,\n",
              " 'yet': 649,\n",
              " 'took': 650,\n",
              " 'failed': 651,\n",
              " 'statement': 652,\n",
              " 'bencarson': 653,\n",
              " 'ronald': 654,\n",
              " 'gone': 655,\n",
              " 'gopdeba': 656,\n",
              " 'become': 657,\n",
              " 'sorry': 658,\n",
              " 'morningjoe': 659,\n",
              " 'pattonoswalt': 660,\n",
              " 'gov': 661,\n",
              " 'calls': 662,\n",
              " 'cut': 663,\n",
              " 'politically': 664,\n",
              " 'points': 665,\n",
              " 'missed': 666,\n",
              " 'pjnet': 667,\n",
              " 'straight': 668,\n",
              " 'check': 669,\n",
              " 'berniesanders': 670,\n",
              " 'until': 671,\n",
              " 'idiots': 672,\n",
              " 'minutes': 673,\n",
              " 'obamacare': 674,\n",
              " 'stands': 675,\n",
              " 'kwrcrow': 676,\n",
              " 'canttrustabush': 677,\n",
              " 'headed': 678,\n",
              " 'httptco': 679,\n",
              " 'jobs': 680,\n",
              " 'shut': 681,\n",
              " 'whats': 682,\n",
              " 'totally': 683,\n",
              " 'miss': 684,\n",
              " 'proud': 685,\n",
              " 'friends': 686,\n",
              " 'bimbo': 687,\n",
              " 'shows': 688,\n",
              " 'office': 689,\n",
              " 'nice': 690,\n",
              " 'httptcoauhlnza3ww': 691,\n",
              " 'history': 692,\n",
              " 'destroy': 693,\n",
              " 'cruzcrew': 694,\n",
              " 'joke': 695,\n",
              " 'lies': 696,\n",
              " 'themselves': 697,\n",
              " 'stand': 698,\n",
              " 'kellyfile': 699,\n",
              " 'recap': 700,\n",
              " 'use': 701,\n",
              " 'imwithhuck': 702,\n",
              " 'games': 703,\n",
              " 'total': 704,\n",
              " 'bernie': 705,\n",
              " 'wall': 706,\n",
              " 'interesting': 707,\n",
              " 'realize': 708,\n",
              " 'prostitutes': 709,\n",
              " 'yeah': 710,\n",
              " 'httptco8s67pz8a4a': 711,\n",
              " 'full': 712,\n",
              " 'shes': 713,\n",
              " 'sad': 714,\n",
              " 'refuse': 715,\n",
              " 'sexism': 716,\n",
              " 'place': 717,\n",
              " 'rich': 718,\n",
              " 'racist': 719,\n",
              " 'leave': 720,\n",
              " 'past': 721,\n",
              " 'send': 722,\n",
              " 'knows': 723,\n",
              " 'common': 724,\n",
              " 'cruzs': 725,\n",
              " 'dc': 726,\n",
              " 'goptbt': 727,\n",
              " 'policies': 728,\n",
              " 'httpst': 729,\n",
              " 'yall': 730,\n",
              " 'church': 731,\n",
              " 'walker16': 732,\n",
              " 'https': 733,\n",
              " 'folks': 734,\n",
              " 'business': 735,\n",
              " 'statements': 736,\n",
              " 'poll': 737,\n",
              " 'mexican': 738,\n",
              " 'youtube': 739,\n",
              " 'chance': 740,\n",
              " 'wish': 741,\n",
              " '8': 742,\n",
              " 'direct': 743,\n",
              " 'human': 744,\n",
              " 'rather': 745,\n",
              " 'personal': 746,\n",
              " 'analysis': 747,\n",
              " 'marriage': 748,\n",
              " 'hilarious': 749,\n",
              " 'dream': 750,\n",
              " 'second': 751,\n",
              " 'lives': 752,\n",
              " 'congress': 753,\n",
              " 'liberal': 754,\n",
              " 'puestoloco': 755,\n",
              " 'marymauldin': 756,\n",
              " 'reason': 757,\n",
              " 'clown': 758,\n",
              " 'glad': 759,\n",
              " 'worst': 760,\n",
              " 'families': 761,\n",
              " 'huge': 762,\n",
              " 'might': 763,\n",
              " 'probably': 764,\n",
              " 'tried': 765,\n",
              " 'definitely': 766,\n",
              " 'die': 767,\n",
              " 'breaking': 768,\n",
              " 'earned': 769,\n",
              " 'since': 770,\n",
              " 'clowns': 771,\n",
              " 'perry': 772,\n",
              " 'establishment': 773,\n",
              " 'unless': 774,\n",
              " 'tedcruz2016': 775,\n",
              " 'public': 776,\n",
              " 'idea': 777,\n",
              " 'commercial': 778,\n",
              " 'air': 779,\n",
              " 'untill': 780,\n",
              " 'working': 781,\n",
              " 'policy': 782,\n",
              " 'bill': 783,\n",
              " 'crazy': 784,\n",
              " 'bankruptcy': 785,\n",
              " 'either': 786,\n",
              " 'irandeal': 787,\n",
              " 'finally': 788,\n",
              " 'mind': 789,\n",
              " 'tweets': 790,\n",
              " 'b': 791,\n",
              " 'number': 792,\n",
              " 'sounds': 793,\n",
              " 'legal': 794,\n",
              " 'sma': 795,\n",
              " 'pro': 796,\n",
              " 'boo': 797,\n",
              " 'economy': 798,\n",
              " 'through': 799,\n",
              " 'dad': 800,\n",
              " 'wisconsin': 801,\n",
              " 'hates': 802,\n",
              " 'dems': 803,\n",
              " 'facing': 804,\n",
              " 'beat': 805,\n",
              " 'sober': 806,\n",
              " 'httptcozy12bdukx9': 807,\n",
              " 'hours': 808,\n",
              " 'anymore': 809,\n",
              " 'proved': 810,\n",
              " 'walkers': 811,\n",
              " 're': 812,\n",
              " 'response': 813,\n",
              " 'status': 814,\n",
              " 'impressed': 815,\n",
              " 'playing': 816,\n",
              " 'though': 817,\n",
              " 'except': 818,\n",
              " 'ppl': 819,\n",
              " 'year': 820,\n",
              " 'shame': 821,\n",
              " 'waiting': 822,\n",
              " 'fucked': 823,\n",
              " 'wouldnt': 824,\n",
              " 'megan': 825,\n",
              " 'high': 826,\n",
              " 'iraq': 827,\n",
              " 'pledge': 828,\n",
              " 'disgusting': 829,\n",
              " 'coming': 830,\n",
              " 'afraid': 831,\n",
              " 'usa': 832,\n",
              " 'knew': 833,\n",
              " 'ones': 834,\n",
              " 'laugh': 835,\n",
              " 'voter': 836,\n",
              " 'sexist': 837,\n",
              " 'different': 838,\n",
              " 'drink': 839,\n",
              " 'thinking': 840,\n",
              " 'unfathomable': 841,\n",
              " 'wassermanschultz': 842,\n",
              " 'postmortem': 843,\n",
              " 'surreal': 844,\n",
              " 'brother': 845,\n",
              " 'mess': 846,\n",
              " 'pres': 847,\n",
              " 'hangover': 848,\n",
              " 'biased': 849,\n",
              " 'changed': 850,\n",
              " 'honestly': 851,\n",
              " 'gt': 852,\n",
              " 'alien': 853,\n",
              " 'unions': 854,\n",
              " 'reform': 855,\n",
              " 'gopclowncar': 856,\n",
              " 'killed': 857,\n",
              " 'makeamericagreatagain': 858,\n",
              " 'basically': 859,\n",
              " 'least': 860,\n",
              " 'violence': 861,\n",
              " 'spent': 862,\n",
              " 'brothers': 863,\n",
              " 'nominee': 864,\n",
              " 'few': 865,\n",
              " 'learn': 866,\n",
              " 'already': 867,\n",
              " 'perfect': 868,\n",
              " 'mr': 869,\n",
              " 'liar': 870,\n",
              " 'circus': 871,\n",
              " 'ridiculous': 872,\n",
              " 'system': 873,\n",
              " 'senator': 874,\n",
              " 'veterans': 875,\n",
              " 'jsc1835': 876,\n",
              " 'desdemona4u': 877,\n",
              " '911': 878,\n",
              " 'comment': 879,\n",
              " 'worse': 880,\n",
              " 'amymek': 881,\n",
              " 'abortions': 882,\n",
              " 'wakeupamerica': 883,\n",
              " 'surprised': 884,\n",
              " 'babies': 885,\n",
              " 'uniteblue': 886,\n",
              " 'completely': 887,\n",
              " 'quite': 888,\n",
              " 'msnbc': 889,\n",
              " 'hand': 890,\n",
              " 'movement': 891,\n",
              " 'entertainment': 892,\n",
              " 'lose': 893,\n",
              " 'taking': 894,\n",
              " 'thatchrisgore': 895,\n",
              " 'lie': 896,\n",
              " 'leaders': 897,\n",
              " 'such': 898,\n",
              " 'sanders': 899,\n",
              " 'everybody': 900,\n",
              " 'advantage': 901,\n",
              " 'education': 902,\n",
              " 'looked': 903,\n",
              " 'mad': 904,\n",
              " 'toot': 905,\n",
              " 'mutant': 906,\n",
              " 'superpower': 907,\n",
              " 'fearmongering': 908,\n",
              " 'batsask': 909,\n",
              " 'odonnell': 910,\n",
              " 'htt': 911,\n",
              " 'elected': 912,\n",
              " 'attacking': 913,\n",
              " 'goes': 914,\n",
              " 'self': 915,\n",
              " 'wanted': 916,\n",
              " 'close': 917,\n",
              " 'try': 918,\n",
              " 'sound': 919,\n",
              " 'serious': 920,\n",
              " 'china': 921,\n",
              " 'talked': 922,\n",
              " 'free': 923,\n",
              " 'outta': 924,\n",
              " 'amazing': 925,\n",
              " 'excellent': 926,\n",
              " 'health': 927,\n",
              " 'swear': 928,\n",
              " 'surprise': 929,\n",
              " 'touch': 930,\n",
              " 'fix': 931,\n",
              " 'national': 932,\n",
              " 'millions': 933,\n",
              " 'lived': 934,\n",
              " 'compton': 935,\n",
              " 'shannonrwatts': 936,\n",
              " 'dog': 937,\n",
              " 'shot': 938,\n",
              " 'understand': 939,\n",
              " 'substance': 940,\n",
              " 'hunger': 941,\n",
              " 'vagina': 942,\n",
              " 'polls': 943,\n",
              " 'th': 944,\n",
              " 'raise': 945,\n",
              " 'combover': 946,\n",
              " 'mozgovaya': 947,\n",
              " 'hopefuls': 948,\n",
              " 'brotherhood': 949,\n",
              " 'fire': 950,\n",
              " 'father': 951,\n",
              " 'movie': 952,\n",
              " '2nd': 953,\n",
              " 'course': 954,\n",
              " 'literally': 955,\n",
              " 'budget': 956,\n",
              " 'listening': 957,\n",
              " 'telling': 958,\n",
              " 'drudge': 959,\n",
              " 'farrakhan': 960,\n",
              " 'bor': 961,\n",
              " 'tlot': 962,\n",
              " 'mother': 963,\n",
              " 'stuff': 964,\n",
              " 'video': 965,\n",
              " 'scary': 966,\n",
              " 'experiment': 967,\n",
              " 'fear': 968,\n",
              " 'hit': 969,\n",
              " 'shouldnt': 970,\n",
              " 'independent': 971,\n",
              " 'constitution': 972,\n",
              " 'strong': 973,\n",
              " 'schools': 974,\n",
              " 'russia': 975,\n",
              " 'bashing': 976,\n",
              " 'round': 977,\n",
              " 'middle': 978,\n",
              " 'family': 979,\n",
              " 'awesome': 980,\n",
              " 'snl': 981,\n",
              " 'jokes': 982,\n",
              " 'coverage': 983,\n",
              " 'bias': 984,\n",
              " 'terrible': 985,\n",
              " 'sold': 986,\n",
              " 'trust': 987,\n",
              " 'standwithrand': 988,\n",
              " 'home': 989,\n",
              " 'noamnesty': 990,\n",
              " 'whererwomen': 991,\n",
              " 'libertyu': 992,\n",
              " 'fearful': 993,\n",
              " 'ignorant': 994,\n",
              " 'ha': 995,\n",
              " 'trans': 996,\n",
              " 'taxes': 997,\n",
              " 'law': 998,\n",
              " 'view': 999,\n",
              " 'billhemmer': 1000,\n",
              " ...}"
            ]
          },
          "execution_count": 25,
          "metadata": {},
          "output_type": "execute_result"
        }
      ],
      "source": [
        "word_index =  tokenizer.word_index\n",
        "word_index"
      ]
    },
    {
      "cell_type": "code",
      "execution_count": 26,
      "metadata": {
        "colab": {
          "base_uri": "https://localhost:8080/"
        },
        "id": "0968FIcwRj9P",
        "outputId": "c1b27955-f0bf-4c70-8507-40e3504cbc97"
      },
      "outputs": [
        {
          "data": {
            "text/plain": [
              "15713"
            ]
          },
          "execution_count": 26,
          "metadata": {},
          "output_type": "execute_result"
        }
      ],
      "source": [
        "len(word_index)"
      ]
    },
    {
      "cell_type": "code",
      "execution_count": 27,
      "metadata": {
        "colab": {
          "base_uri": "https://localhost:8080/"
        },
        "id": "PwrRlz2tYvZG",
        "outputId": "be75241b-ecc3-4f94-8da2-c83ade0de9e0"
      },
      "outputs": [
        {
          "name": "stdout",
          "output_type": "stream",
          "text": [
            "10729\n",
            "[358, 120, 1, 712, 2, 39, 58, 234, 36, 207, 6, 172, 1741, 12, 1302, 1387, 732]\n"
          ]
        }
      ],
      "source": [
        "X = tokenizer.texts_to_sequences(data['text'].values)\n",
        "print(len(X))\n",
        "print(X[0])\n"
      ]
    },
    {
      "cell_type": "code",
      "execution_count": 28,
      "metadata": {
        "id": "dvimSbOXm2aq"
      },
      "outputs": [],
      "source": [
        "# X"
      ]
    },
    {
      "cell_type": "code",
      "execution_count": 29,
      "metadata": {
        "colab": {
          "base_uri": "https://localhost:8080/"
        },
        "id": "VR1ZqG7aTNsq",
        "outputId": "70c048a9-cce3-4238-c1b7-f0a7c49f130b"
      },
      "outputs": [
        {
          "data": {
            "text/plain": [
              "17"
            ]
          },
          "execution_count": 29,
          "metadata": {},
          "output_type": "execute_result"
        }
      ],
      "source": [
        "len(X[0])"
      ]
    },
    {
      "cell_type": "code",
      "execution_count": 30,
      "metadata": {
        "colab": {
          "base_uri": "https://localhost:8080/"
        },
        "id": "1iFNeAVKg0cv",
        "outputId": "d9174f65-3191-4e20-c50c-433895c7d91f"
      },
      "outputs": [
        {
          "data": {
            "text/plain": [
              "11"
            ]
          },
          "execution_count": 30,
          "metadata": {},
          "output_type": "execute_result"
        }
      ],
      "source": [
        "len(X[10728])"
      ]
    },
    {
      "cell_type": "code",
      "execution_count": 31,
      "metadata": {
        "colab": {
          "base_uri": "https://localhost:8080/",
          "height": 53
        },
        "id": "Haa9ueSsdH6P",
        "outputId": "4b9051e8-08d8-4482-a3bc-10f0c9219094"
      },
      "outputs": [
        {
          "data": {
            "application/vnd.google.colaboratory.intrinsic+json": {
              "type": "string"
            },
            "text/plain": [
              "' scottwalker didnt catch the full gopdebate last night here are some of scotts best lines in 90 seconds walker16 httptcozsff'"
            ]
          },
          "execution_count": 31,
          "metadata": {},
          "output_type": "execute_result"
        }
      ],
      "source": [
        "data['text'].values[0]"
      ]
    },
    {
      "cell_type": "code",
      "execution_count": 32,
      "metadata": {
        "colab": {
          "base_uri": "https://localhost:8080/"
        },
        "id": "zT2TDrH6dRve",
        "outputId": "4acb9325-be64-4088-fd9b-c5b32b7ad8cf"
      },
      "outputs": [
        {
          "data": {
            "text/plain": [
              "358"
            ]
          },
          "execution_count": 32,
          "metadata": {},
          "output_type": "execute_result"
        }
      ],
      "source": [
        "word_index['scottwalker']"
      ]
    },
    {
      "cell_type": "code",
      "execution_count": 33,
      "metadata": {
        "colab": {
          "base_uri": "https://localhost:8080/"
        },
        "id": "azs0XLeSdgXr",
        "outputId": "edfe8c75-190f-407b-fb98-8dc8a2bfefba"
      },
      "outputs": [
        {
          "data": {
            "text/plain": [
              "120"
            ]
          },
          "execution_count": 33,
          "metadata": {},
          "output_type": "execute_result"
        }
      ],
      "source": [
        "word_index['didnt']"
      ]
    },
    {
      "cell_type": "code",
      "execution_count": 34,
      "metadata": {
        "colab": {
          "base_uri": "https://localhost:8080/"
        },
        "id": "O5eXIUWShTG7",
        "outputId": "e3e0e9af-e324-4fb1-922d-d4e4c0a431d4"
      },
      "outputs": [
        {
          "data": {
            "text/plain": [
              "2370"
            ]
          },
          "execution_count": 34,
          "metadata": {},
          "output_type": "execute_result"
        }
      ],
      "source": [
        "word_index['catch']"
      ]
    },
    {
      "cell_type": "code",
      "execution_count": 35,
      "metadata": {
        "colab": {
          "base_uri": "https://localhost:8080/"
        },
        "id": "gDmTjIFthaeU",
        "outputId": "278f6583-a90d-48ee-8aef-b555c4607827"
      },
      "outputs": [
        {
          "data": {
            "text/plain": [
              "1"
            ]
          },
          "execution_count": 35,
          "metadata": {},
          "output_type": "execute_result"
        }
      ],
      "source": [
        "word_index['the']"
      ]
    },
    {
      "cell_type": "code",
      "execution_count": 36,
      "metadata": {
        "colab": {
          "base_uri": "https://localhost:8080/"
        },
        "id": "moAe7fS6dtk3",
        "outputId": "e0bc0959-e7aa-414e-ed8a-74486c15e871"
      },
      "outputs": [
        {
          "data": {
            "text/plain": [
              "6321"
            ]
          },
          "execution_count": 36,
          "metadata": {},
          "output_type": "execute_result"
        }
      ],
      "source": [
        "word_index['httptcozsff']"
      ]
    },
    {
      "cell_type": "code",
      "execution_count": 37,
      "metadata": {
        "colab": {
          "base_uri": "https://localhost:8080/"
        },
        "id": "EPZ2HTpUZNOE",
        "outputId": "e94d6ca9-fa4c-436e-f4ca-3ff915e0a96b"
      },
      "outputs": [
        {
          "data": {
            "text/plain": [
              "1     scottwalker didnt catch the full gopdebate la...\n",
              "3     robgeorge that carly fiorina is trending  hou...\n",
              "Name: text, dtype: object"
            ]
          },
          "execution_count": 37,
          "metadata": {},
          "output_type": "execute_result"
        }
      ],
      "source": [
        "data['text'][0:2]"
      ]
    },
    {
      "cell_type": "code",
      "execution_count": 38,
      "metadata": {
        "colab": {
          "base_uri": "https://localhost:8080/"
        },
        "id": "l7Vf_qbN9axO",
        "outputId": "b1a9b4f0-6687-4ae9-cfe1-b200b65d4e14"
      },
      "outputs": [
        {
          "data": {
            "text/plain": [
              "1    Positive\n",
              "3    Positive\n",
              "Name: sentiment, dtype: object"
            ]
          },
          "execution_count": 38,
          "metadata": {},
          "output_type": "execute_result"
        }
      ],
      "source": [
        "data['sentiment'][0:2]"
      ]
    },
    {
      "cell_type": "code",
      "execution_count": 39,
      "metadata": {
        "colab": {
          "base_uri": "https://localhost:8080/"
        },
        "id": "OARo_8h9YYuZ",
        "outputId": "5192460d-9990-42f6-df55-eaa07f54b1af"
      },
      "outputs": [
        {
          "name": "stdout",
          "output_type": "stream",
          "text": [
            "[   0    0    0    0    0    0    0    0    0    0    0  358  120    1\n",
            "  712    2   39   58  234   36  207    6  172 1741   12 1302 1387  732]\n"
          ]
        }
      ],
      "source": [
        "X = pad_sequences(X)\n",
        "print(X[0])\n"
      ]
    },
    {
      "cell_type": "code",
      "execution_count": 40,
      "metadata": {
        "colab": {
          "base_uri": "https://localhost:8080/"
        },
        "id": "1Sg8zpmKbQhz",
        "outputId": "f7d3808e-74fb-443b-d355-6b1177f66e5e"
      },
      "outputs": [
        {
          "data": {
            "text/plain": [
              "28"
            ]
          },
          "execution_count": 40,
          "metadata": {},
          "output_type": "execute_result"
        }
      ],
      "source": [
        "len(X[0])"
      ]
    },
    {
      "cell_type": "code",
      "execution_count": 41,
      "metadata": {
        "id": "kYDlD7Fgb-mr"
      },
      "outputs": [],
      "source": [
        "# X = sequence.pad_sequences(X, maxlen=30)\n",
        "# X[0]"
      ]
    },
    {
      "cell_type": "code",
      "execution_count": 42,
      "metadata": {
        "colab": {
          "base_uri": "https://localhost:8080/"
        },
        "id": "lPeC-Syhbtpl",
        "outputId": "f40aee2c-ad92-4475-abdb-3709efdd6e13"
      },
      "outputs": [
        {
          "data": {
            "text/plain": [
              "(10729, 28)"
            ]
          },
          "execution_count": 42,
          "metadata": {},
          "output_type": "execute_result"
        }
      ],
      "source": [
        "X.shape"
      ]
    },
    {
      "cell_type": "code",
      "execution_count": 43,
      "metadata": {
        "colab": {
          "base_uri": "https://localhost:8080/"
        },
        "id": "UjxBR2ErY4kP",
        "outputId": "d94369b0-e669-4557-adf8-c6dc57458d44"
      },
      "outputs": [
        {
          "data": {
            "text/plain": [
              "28"
            ]
          },
          "execution_count": 43,
          "metadata": {},
          "output_type": "execute_result"
        }
      ],
      "source": [
        "X.shape[1]"
      ]
    },
    {
      "cell_type": "code",
      "execution_count": 44,
      "metadata": {
        "colab": {
          "base_uri": "https://localhost:8080/"
        },
        "id": "GhIzcCEKKKpK",
        "outputId": "aaa59623-3947-46ec-a68d-7c5574e73e47"
      },
      "outputs": [
        {
          "name": "stdout",
          "output_type": "stream",
          "text": [
            "Model: \"sequential\"\n",
            "_________________________________________________________________\n",
            " Layer (type)                Output Shape              Param #   \n",
            "=================================================================\n",
            " embedding (Embedding)       (None, 28, 128)           256000    \n",
            "                                                                 \n",
            " lstm (LSTM)                 (None, 196)               254800    \n",
            "                                                                 \n",
            " dense (Dense)               (None, 1)                 197       \n",
            "                                                                 \n",
            "=================================================================\n",
            "Total params: 510,997\n",
            "Trainable params: 510,997\n",
            "Non-trainable params: 0\n",
            "_________________________________________________________________\n",
            "None\n"
          ]
        }
      ],
      "source": [
        "embed_dim = 128\n",
        "lstm_units = 196\n",
        "\n",
        "model = Sequential()\n",
        "model.add(Embedding(top_words, embed_dim,input_length = X.shape[1]))\n",
        "model.add(LSTM(lstm_units))\n",
        "model.add(Dense(1,activation='sigmoid'))\n",
        "model.compile(loss = 'binary_crossentropy', optimizer='adam',metrics = ['accuracy'])\n",
        "print(model.summary())"
      ]
    },
    {
      "cell_type": "code",
      "execution_count": 45,
      "metadata": {
        "colab": {
          "base_uri": "https://localhost:8080/"
        },
        "id": "VAmuiYT6r9y2",
        "outputId": "0cbfbf98-1aae-41d3-8013-5c0d6f88e23d"
      },
      "outputs": [
        {
          "data": {
            "text/plain": [
              "256000"
            ]
          },
          "execution_count": 45,
          "metadata": {},
          "output_type": "execute_result"
        }
      ],
      "source": [
        "parameters_of_Embedding_layer=top_words*embed_dim\n",
        "parameters_of_Embedding_layer"
      ]
    },
    {
      "cell_type": "code",
      "execution_count": 46,
      "metadata": {
        "colab": {
          "base_uri": "https://localhost:8080/"
        },
        "id": "8IavxAaVq-IY",
        "outputId": "7d636c35-eb2c-4fe4-f788-3cac3ba6eb15"
      },
      "outputs": [
        {
          "data": {
            "text/plain": [
              "254800"
            ]
          },
          "execution_count": 46,
          "metadata": {},
          "output_type": "execute_result"
        }
      ],
      "source": [
        "parameters_of_lstm_layer=(embed_dim+lstm_units+1)*lstm_units*4\n",
        "parameters_of_lstm_layer"
      ]
    },
    {
      "cell_type": "code",
      "execution_count": 47,
      "metadata": {
        "colab": {
          "base_uri": "https://localhost:8080/"
        },
        "id": "9d0RW33fDz8A",
        "outputId": "7085b08d-daab-426f-bc94-ee545bcb83ec"
      },
      "outputs": [
        {
          "name": "stdout",
          "output_type": "stream",
          "text": [
            "['Negative' 'Positive']\n",
            "[1 1 1 ... 1 0 1]\n"
          ]
        }
      ],
      "source": [
        "from sklearn import preprocessing\n",
        "le = preprocessing.LabelEncoder()\n",
        "y=le.fit_transform(data['sentiment'])\n",
        "print(le.classes_)\n",
        "print(y)"
      ]
    },
    {
      "cell_type": "code",
      "execution_count": 48,
      "metadata": {
        "colab": {
          "base_uri": "https://localhost:8080/"
        },
        "id": "1GGycQzrXCmb",
        "outputId": "b13a197a-1240-4ee4-e295-ef499f4ad595"
      },
      "outputs": [
        {
          "name": "stdout",
          "output_type": "stream",
          "text": [
            "(7188, 28) (7188,)\n",
            "(3541, 28) (3541,)\n"
          ]
        }
      ],
      "source": [
        "X_train, X_test, y_train, y_test = train_test_split(X,y, test_size = 0.33, random_state = 42)\n",
        "print(X_train.shape,y_train.shape)\n",
        "print(X_test.shape,y_test.shape)"
      ]
    },
    {
      "cell_type": "code",
      "execution_count": 49,
      "metadata": {
        "colab": {
          "base_uri": "https://localhost:8080/"
        },
        "id": "7-wv24wHLLHK",
        "outputId": "98637813-a6ea-40fb-bb37-0ae9368acc19"
      },
      "outputs": [
        {
          "name": "stdout",
          "output_type": "stream",
          "text": [
            "Epoch 1/7\n",
            "225/225 [==============================] - 20s 77ms/step - loss: 0.4226 - accuracy: 0.8197 - val_loss: 0.3437 - val_accuracy: 0.8515\n",
            "Epoch 2/7\n",
            "225/225 [==============================] - 16s 73ms/step - loss: 0.3014 - accuracy: 0.8723 - val_loss: 0.3337 - val_accuracy: 0.8628\n",
            "Epoch 3/7\n",
            "225/225 [==============================] - 16s 72ms/step - loss: 0.2495 - accuracy: 0.9007 - val_loss: 0.3743 - val_accuracy: 0.8382\n",
            "Epoch 4/7\n",
            "225/225 [==============================] - 16s 73ms/step - loss: 0.2087 - accuracy: 0.9140 - val_loss: 0.3997 - val_accuracy: 0.8472\n",
            "Epoch 5/7\n",
            "225/225 [==============================] - 17s 74ms/step - loss: 0.1787 - accuracy: 0.9302 - val_loss: 0.4252 - val_accuracy: 0.8435\n"
          ]
        },
        {
          "data": {
            "text/plain": [
              "<keras.callbacks.History at 0x7f6224903610>"
            ]
          },
          "execution_count": 49,
          "metadata": {},
          "output_type": "execute_result"
        }
      ],
      "source": [
        "batch_size = 32\n",
        "model.fit(X_train, y_train, epochs = 7, batch_size=batch_size,validation_data= (X_test, y_test)\n",
        "                             ,callbacks=EarlyStopping(patience=3,restore_best_weights=True))"
      ]
    },
    {
      "cell_type": "code",
      "execution_count": 50,
      "metadata": {
        "colab": {
          "base_uri": "https://localhost:8080/"
        },
        "id": "TLV3kO8XieSP",
        "outputId": "6149b264-6ec6-409e-ecb0-54464b614fc2"
      },
      "outputs": [
        {
          "name": "stdout",
          "output_type": "stream",
          "text": [
            "225/225 [==============================] - 4s 18ms/step - loss: 0.2327 - accuracy: 0.9104\n"
          ]
        },
        {
          "data": {
            "text/plain": [
              "[0.23272907733917236, 0.910406231880188]"
            ]
          },
          "execution_count": 50,
          "metadata": {},
          "output_type": "execute_result"
        }
      ],
      "source": [
        "model.evaluate(X_train, y_train)"
      ]
    },
    {
      "cell_type": "code",
      "execution_count": 51,
      "metadata": {
        "colab": {
          "base_uri": "https://localhost:8080/"
        },
        "id": "s-7TAp2ZjFVE",
        "outputId": "e7ef00aa-48ab-4917-c97a-f04137ff17ac"
      },
      "outputs": [
        {
          "name": "stdout",
          "output_type": "stream",
          "text": [
            "111/111 [==============================] - 2s 18ms/step - loss: 0.3337 - accuracy: 0.8628\n"
          ]
        },
        {
          "data": {
            "text/plain": [
              "[0.3336893320083618, 0.8627506494522095]"
            ]
          },
          "execution_count": 51,
          "metadata": {},
          "output_type": "execute_result"
        }
      ],
      "source": [
        "model.evaluate(X_test, y_test)"
      ]
    },
    {
      "cell_type": "code",
      "execution_count": 52,
      "metadata": {
        "colab": {
          "base_uri": "https://localhost:8080/"
        },
        "id": "o2taejP8pF_X",
        "outputId": "e90f3c4c-5c1a-4ecb-8e92-4a425ec41bf8"
      },
      "outputs": [
        {
          "name": "stdout",
          "output_type": "stream",
          "text": [
            "111/111 [==============================] - 3s 21ms/step\n"
          ]
        },
        {
          "data": {
            "text/plain": [
              "array([[1],\n",
              "       [0],\n",
              "       [1],\n",
              "       ...,\n",
              "       [0],\n",
              "       [0],\n",
              "       [0]])"
            ]
          },
          "execution_count": 52,
          "metadata": {},
          "output_type": "execute_result"
        }
      ],
      "source": [
        "import numpy as np\n",
        "y_pred=(model.predict(X_test)>=0.5).astype(int)\n",
        "y_pred"
      ]
    },
    {
      "cell_type": "code",
      "execution_count": 53,
      "metadata": {
        "colab": {
          "base_uri": "https://localhost:8080/",
          "height": 36
        },
        "id": "vYaEMKocgJpW",
        "outputId": "c8db7f3c-2402-47ea-ad09-b2d27d3d70ae"
      },
      "outputs": [
        {
          "data": {
            "application/vnd.google.colaboratory.intrinsic+json": {
              "type": "string"
            },
            "text/plain": [
              "' pattonoswalt i loved scott walker as mark harmons romantic rival in summer school look it up gopdebate'"
            ]
          },
          "execution_count": 53,
          "metadata": {},
          "output_type": "execute_result"
        }
      ],
      "source": [
        "data['text'].values[10]"
      ]
    },
    {
      "cell_type": "code",
      "execution_count": 54,
      "metadata": {
        "colab": {
          "base_uri": "https://localhost:8080/",
          "height": 36
        },
        "id": "LieNoUeynJBW",
        "outputId": "b8dae2e8-e94b-47e8-ace9-202fd96affe4"
      },
      "outputs": [
        {
          "data": {
            "application/vnd.google.colaboratory.intrinsic+json": {
              "type": "string"
            },
            "text/plain": [
              "'Positive'"
            ]
          },
          "execution_count": 54,
          "metadata": {},
          "output_type": "execute_result"
        }
      ],
      "source": [
        "data['sentiment'].values[10]"
      ]
    },
    {
      "cell_type": "code",
      "execution_count": 55,
      "metadata": {
        "colab": {
          "base_uri": "https://localhost:8080/"
        },
        "id": "V-bodro3L5yE",
        "outputId": "16953b48-5643-4e4f-c0c5-294ef847e995"
      },
      "outputs": [
        {
          "data": {
            "text/plain": [
              "[[660, 9, 519, 301, 165, 55, 12, 1305, 180, 13, 47, 2]]"
            ]
          },
          "execution_count": 55,
          "metadata": {},
          "output_type": "execute_result"
        }
      ],
      "source": [
        "twt = ['pattonoswalt i loved scott walker as mark harmons romantic rival in summer school look it up gopdebate\t'\t]\n",
        "\n",
        "twt = tokenizer.texts_to_sequences(twt)\n",
        "\n",
        "twt\n"
      ]
    },
    {
      "cell_type": "code",
      "execution_count": 72,
      "metadata": {
        "colab": {
          "base_uri": "https://localhost:8080/"
        },
        "id": "uMPSOx6k5B36",
        "outputId": "183e4562-87bc-4835-d589-54a53e9324ee"
      },
      "outputs": [
        {
          "name": "stdout",
          "output_type": "stream",
          "text": [
            "660\n",
            "9\n",
            "519\n",
            "2372\n",
            "6332\n",
            "6333\n"
          ]
        }
      ],
      "source": [
        "print(word_index['pattonoswalt'])\n",
        "print(word_index['i'])\n",
        "print(word_index['loved'])\n",
        "print(word_index['mark'])\n",
        "print(word_index['harmons'])\n",
        "print(word_index['romantic'])"
      ]
    },
    {
      "cell_type": "code",
      "execution_count": 57,
      "metadata": {
        "colab": {
          "base_uri": "https://localhost:8080/"
        },
        "id": "du57cGm6b27T",
        "outputId": "0d08ab40-b7d5-4ddd-f6b3-6884039830bf"
      },
      "outputs": [
        {
          "name": "stdout",
          "output_type": "stream",
          "text": [
            "[[   0    0    0    0    0    0    0    0    0    0    0    0    0    0\n",
            "     0    0  660    9  519  301  165   55   12 1305  180   13   47    2]]\n"
          ]
        }
      ],
      "source": [
        "twt = pad_sequences(twt, maxlen=28)\n",
        "print(twt)"
      ]
    },
    {
      "cell_type": "code",
      "execution_count": 58,
      "metadata": {
        "colab": {
          "base_uri": "https://localhost:8080/"
        },
        "id": "eBydMCeKY4iS",
        "outputId": "dbda53f4-2d58-49b1-ee8e-997f37c27731"
      },
      "outputs": [
        {
          "data": {
            "text/plain": [
              "(1, 28)"
            ]
          },
          "execution_count": 58,
          "metadata": {},
          "output_type": "execute_result"
        }
      ],
      "source": [
        "twt.shape"
      ]
    },
    {
      "cell_type": "code",
      "execution_count": 59,
      "metadata": {
        "colab": {
          "base_uri": "https://localhost:8080/"
        },
        "id": "vB1xI-Mnv3IJ",
        "outputId": "92c57365-6299-4170-fee0-0065d629c194"
      },
      "outputs": [
        {
          "name": "stdout",
          "output_type": "stream",
          "text": [
            "1/1 [==============================] - 0s 29ms/step\n",
            "[[0.7018799]]\n"
          ]
        }
      ],
      "source": [
        "print(model.predict(twt))"
      ]
    },
    {
      "cell_type": "code",
      "execution_count": 60,
      "metadata": {
        "colab": {
          "base_uri": "https://localhost:8080/"
        },
        "id": "dbVbubqQlr4h",
        "outputId": "f2fc3d5b-bc2d-4ccb-8e96-3bffa9b19942"
      },
      "outputs": [
        {
          "name": "stdout",
          "output_type": "stream",
          "text": [
            "1/1 [==============================] - 0s 27ms/step\n"
          ]
        },
        {
          "data": {
            "text/plain": [
              "array([[1]])"
            ]
          },
          "execution_count": 60,
          "metadata": {},
          "output_type": "execute_result"
        }
      ],
      "source": [
        "prediction_twt=y_pred=(model.predict(twt)>=0.5).astype(int)\n",
        "prediction_twt"
      ]
    },
    {
      "cell_type": "code",
      "execution_count": 61,
      "metadata": {
        "colab": {
          "base_uri": "https://localhost:8080/"
        },
        "id": "58v4Bzxedh_d",
        "outputId": "0bd25be9-176c-453e-a98f-bdd78f945af0"
      },
      "outputs": [
        {
          "data": {
            "text/plain": [
              "(28,)"
            ]
          },
          "execution_count": 61,
          "metadata": {},
          "output_type": "execute_result"
        }
      ],
      "source": [
        "X_test[1000].shape"
      ]
    },
    {
      "cell_type": "code",
      "execution_count": 62,
      "metadata": {
        "colab": {
          "base_uri": "https://localhost:8080/"
        },
        "id": "liZPPp8JWPlA",
        "outputId": "e72b703b-3efa-4fa0-8e55-96f7fc08bb5c"
      },
      "outputs": [
        {
          "data": {
            "text/plain": [
              "(1, 28)"
            ]
          },
          "execution_count": 62,
          "metadata": {},
          "output_type": "execute_result"
        }
      ],
      "source": [
        "X_test_reshape=X_test[1000].reshape(1,-1)\n",
        "X_test_reshape.shape"
      ]
    },
    {
      "cell_type": "code",
      "execution_count": 63,
      "metadata": {
        "colab": {
          "base_uri": "https://localhost:8080/"
        },
        "id": "-fGRb2z3c4RU",
        "outputId": "530c7b05-7775-4a05-a3ad-c7c6f94c6496"
      },
      "outputs": [
        {
          "name": "stdout",
          "output_type": "stream",
          "text": [
            "1/1 [==============================] - 0s 42ms/step\n"
          ]
        },
        {
          "data": {
            "text/plain": [
              "array([[0]])"
            ]
          },
          "execution_count": 63,
          "metadata": {},
          "output_type": "execute_result"
        }
      ],
      "source": [
        "(model.predict(X_test_reshape)>=0.5).astype(int)"
      ]
    },
    {
      "cell_type": "code",
      "execution_count": 64,
      "metadata": {
        "colab": {
          "base_uri": "https://localhost:8080/"
        },
        "id": "tSPlyTPVzdap",
        "outputId": "7d7d9a01-2e6e-4b76-9b24-f714ac60712c"
      },
      "outputs": [
        {
          "data": {
            "text/plain": [
              "0"
            ]
          },
          "execution_count": 64,
          "metadata": {},
          "output_type": "execute_result"
        }
      ],
      "source": [
        "y_test[1000]"
      ]
    },
    {
      "cell_type": "code",
      "execution_count": 65,
      "metadata": {
        "colab": {
          "base_uri": "https://localhost:8080/"
        },
        "id": "ezBhJ5eGZevb",
        "outputId": "16c0ca48-d34e-4d22-f896-60c756bbeb05"
      },
      "outputs": [
        {
          "data": {
            "text/plain": [
              "0"
            ]
          },
          "execution_count": 65,
          "metadata": {},
          "output_type": "execute_result"
        }
      ],
      "source": [
        "y_test[1000]"
      ]
    }
  ],
  "metadata": {
    "accelerator": "GPU",
    "colab": {
      "provenance": []
    },
    "gpuClass": "standard",
    "kernelspec": {
      "display_name": "Python 3",
      "name": "python3"
    },
    "language_info": {
      "name": "python"
    }
  },
  "nbformat": 4,
  "nbformat_minor": 0
}
